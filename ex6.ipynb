{
  "nbformat": 4,
  "nbformat_minor": 0,
  "metadata": {
    "colab": {
      "provenance": [],
      "authorship_tag": "ABX9TyNC03CxgXEiTiP05AUreBSt",
      "include_colab_link": true
    },
    "kernelspec": {
      "name": "python3",
      "display_name": "Python 3"
    },
    "language_info": {
      "name": "python"
    }
  },
  "cells": [
    {
      "cell_type": "markdown",
      "metadata": {
        "id": "view-in-github",
        "colab_type": "text"
      },
      "source": [
        "<a href=\"https://colab.research.google.com/github/PoiZeX/CloudCourse/blob/main/ex6.ipynb\" target=\"_parent\"><img src=\"https://colab.research.google.com/assets/colab-badge.svg\" alt=\"Open In Colab\"/></a>"
      ]
    },
    {
      "cell_type": "code",
      "execution_count": 1,
      "metadata": {
        "colab": {
          "base_uri": "https://localhost:8080/"
        },
        "id": "1xkgPUThl0-Z",
        "outputId": "7879b3a3-d12f-412c-bf43-cdd3aded0b3d"
      },
      "outputs": [
        {
          "output_type": "stream",
          "name": "stdout",
          "text": [
            "Looking in indexes: https://pypi.org/simple, https://us-python.pkg.dev/colab-wheels/public/simple/\n",
            "Collecting firebase\n",
            "  Downloading firebase-4.0.1-py3-none-any.whl (12 kB)\n",
            "Requirement already satisfied: requests in /usr/local/lib/python3.10/dist-packages (from firebase) (2.27.1)\n",
            "Requirement already satisfied: idna<4,>=2.5 in /usr/local/lib/python3.10/dist-packages (from requests->firebase) (3.4)\n",
            "Requirement already satisfied: certifi>=2017.4.17 in /usr/local/lib/python3.10/dist-packages (from requests->firebase) (2022.12.7)\n",
            "Requirement already satisfied: urllib3<1.27,>=1.21.1 in /usr/local/lib/python3.10/dist-packages (from requests->firebase) (1.26.15)\n",
            "Requirement already satisfied: charset-normalizer~=2.0.0 in /usr/local/lib/python3.10/dist-packages (from requests->firebase) (2.0.12)\n",
            "Installing collected packages: firebase\n",
            "Successfully installed firebase-4.0.1\n"
          ]
        }
      ],
      "source": [
        "!pip install firebase\n",
        "\n"
      ]
    },
    {
      "cell_type": "code",
      "source": [
        "from zmq.constants import NULL\n",
        "from firebase import firebase\n",
        "import IPython\n",
        "from google.colab import output\n",
        "import random\n",
        "import ipywidgets as widgets\n",
        "from ipywidgets import HBox\n",
        "\n",
        "FBconn = firebase.FirebaseApplication('https://ex6game-default-rtdb.europe-west1.firebasedatabase.app/',None)\n",
        "res=FBconn.get('/Questions/',None)\n",
        "\n",
        "questionsFromDB = []\n",
        "if res:\n",
        "  for key in res:\n",
        "      questionsFromDB.append(key)\n",
        "\n",
        "currentSelectedAns = \"\"\n",
        "question = \"\"\n",
        "random_element = NULL\n",
        "answers = []\n",
        "def add_list_item():\n",
        "        global random_element,answers,question\n",
        "        # Use display to add items which will be persisted on notebook reload.\n",
        "        if (questionsFromDB):\n",
        "          while random_element == NULL:\n",
        "            random_element = random.choice(questionsFromDB)\n",
        "        else:\n",
        "          return\n",
        "\n",
        "        question = random_element['question']\n",
        "        answers = random_element['answers']\n",
        "        # Display the question as an HTML heading\n",
        "        display(IPython.display.HTML(f\"<h2>The question is:{question}</h2>\"))\n",
        "\n",
        "        # Create radio buttons for the answers\n",
        "        options = [(ans, ans) for ans in answers]\n",
        "\n",
        "        radio_buttons = widgets.RadioButtons(options=options[1:], value = None)\n",
        "\n",
        "        # Define a function to save the selected answer\n",
        "        def save_answer(selection):\n",
        "            # Do something with the user's selection here\n",
        "            global currentSelectedAns\n",
        "            currentSelectedAns = selection\n",
        "\n",
        "        # Attach the save_answer function to the radio buttons widget\n",
        "        radio_buttons.observe(lambda event: save_answer(event['new']), names='value')\n",
        "\n",
        "        # Display the radio buttons\n",
        "        display(radio_buttons)\n",
        "\n",
        "add_list_item()\n",
        "\n",
        "# prompt user to submit answers\n",
        "submit_button = widgets.Button(description=\"Submit\")\n",
        "display(HBox, HBox,submit_button)\n",
        "\n",
        "def on_submit_button_clicked(b):\n",
        "    # iterate over question widgets and get user answers\n",
        "    answerId = random_element['correctAnswer']\n",
        "    correctAns = answers[int(answerId)-1]\n",
        "    selected_answer = currentSelectedAns\n",
        "\n",
        "    print(f\"Question : {question}\")\n",
        "    print(f\"Correct answer: {correctAns}\")\n",
        "    print(f\"Selected answer: {selected_answer}\")\n",
        "        \n",
        "    # check if user's answer is correct\n",
        "    if selected_answer.strip() == correctAns.strip():\n",
        "        print(\"Correct!\")\n",
        "    else:\n",
        "        print(\"Incorrect.\")\n",
        "\n",
        "# assign callback function to submit button\n",
        "submit_button.on_click(on_submit_button_clicked)\n",
        "\n",
        "\n",
        "def on_clicked():\n",
        "  # Use redirect_to_element to direct the elements which are being written.\n",
        "  with output.redirect_to_element('#items'):\n",
        "    # Use display to add items which will be persisted on notebook reload.\n",
        "    if (questionsFromDB):\n",
        "      random_element = random.choice(questionsFromDB)\n",
        "    else:\n",
        "      random_element = NULL\n",
        "\n",
        "    display(IPython.display.HTML('<li></li>'))\n",
        "\n",
        "output.register_callback('notebook.onClicked', on_clicked)\n",
        "# result = FBconn.post('/Students/', elem)"
      ],
      "metadata": {
        "colab": {
          "base_uri": "https://localhost:8080/",
          "height": 370
        },
        "id": "DEVWmY9omanr",
        "outputId": "a32c67ed-ac13-4a21-fd6e-977ea62ac936"
      },
      "execution_count": 121,
      "outputs": [
        {
          "output_type": "error",
          "ename": "TypeError",
          "evalue": "ignored",
          "traceback": [
            "\u001b[0;31m---------------------------------------------------------------------------\u001b[0m",
            "\u001b[0;31mTypeError\u001b[0m                                 Traceback (most recent call last)",
            "\u001b[0;32m<ipython-input-121-3289717a5ff8>\u001b[0m in \u001b[0;36m<cell line: 52>\u001b[0;34m()\u001b[0m\n\u001b[1;32m     50\u001b[0m         \u001b[0mdisplay\u001b[0m\u001b[0;34m(\u001b[0m\u001b[0mradio_buttons\u001b[0m\u001b[0;34m)\u001b[0m\u001b[0;34m\u001b[0m\u001b[0;34m\u001b[0m\u001b[0m\n\u001b[1;32m     51\u001b[0m \u001b[0;34m\u001b[0m\u001b[0m\n\u001b[0;32m---> 52\u001b[0;31m \u001b[0madd_list_item\u001b[0m\u001b[0;34m(\u001b[0m\u001b[0;34m)\u001b[0m\u001b[0;34m\u001b[0m\u001b[0;34m\u001b[0m\u001b[0m\n\u001b[0m\u001b[1;32m     53\u001b[0m \u001b[0;34m\u001b[0m\u001b[0m\n\u001b[1;32m     54\u001b[0m \u001b[0;31m# prompt user to submit answers\u001b[0m\u001b[0;34m\u001b[0m\u001b[0;34m\u001b[0m\u001b[0m\n",
            "\u001b[0;32m<ipython-input-121-3289717a5ff8>\u001b[0m in \u001b[0;36madd_list_item\u001b[0;34m()\u001b[0m\n\u001b[1;32m     28\u001b[0m           \u001b[0;32mreturn\u001b[0m\u001b[0;34m\u001b[0m\u001b[0;34m\u001b[0m\u001b[0m\n\u001b[1;32m     29\u001b[0m \u001b[0;34m\u001b[0m\u001b[0m\n\u001b[0;32m---> 30\u001b[0;31m         \u001b[0mquestion\u001b[0m \u001b[0;34m=\u001b[0m \u001b[0mrandom_element\u001b[0m\u001b[0;34m[\u001b[0m\u001b[0;34m'question'\u001b[0m\u001b[0;34m]\u001b[0m\u001b[0;34m\u001b[0m\u001b[0;34m\u001b[0m\u001b[0m\n\u001b[0m\u001b[1;32m     31\u001b[0m         \u001b[0manswers\u001b[0m \u001b[0;34m=\u001b[0m \u001b[0mrandom_element\u001b[0m\u001b[0;34m[\u001b[0m\u001b[0;34m'answers'\u001b[0m\u001b[0;34m]\u001b[0m\u001b[0;34m\u001b[0m\u001b[0;34m\u001b[0m\u001b[0m\n\u001b[1;32m     32\u001b[0m         \u001b[0;31m# Display the question as an HTML heading\u001b[0m\u001b[0;34m\u001b[0m\u001b[0;34m\u001b[0m\u001b[0m\n",
            "\u001b[0;31mTypeError\u001b[0m: 'NoneType' object is not subscriptable"
          ]
        }
      ]
    }
  ]
}
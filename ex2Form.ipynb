{
  "nbformat": 4,
  "nbformat_minor": 0,
  "metadata": {
    "colab": {
      "provenance": [],
      "authorship_tag": "ABX9TyOlChCCj80WPEFO0LqKCKNa",
      "include_colab_link": true
    },
    "kernelspec": {
      "name": "python3",
      "display_name": "Python 3"
    },
    "language_info": {
      "name": "python"
    },
    "widgets": {
      "application/vnd.jupyter.widget-state+json": {
        "1618e3e08b6c4dfeab66a68c5229e1f5": {
          "model_module": "@jupyter-widgets/controls",
          "model_name": "DropdownModel",
          "model_module_version": "1.5.0",
          "state": {
            "_dom_classes": [],
            "_model_module": "@jupyter-widgets/controls",
            "_model_module_version": "1.5.0",
            "_model_name": "DropdownModel",
            "_options_labels": [
              "Lidor Ankava",
              "Michal Ginat",
              "Gal Polak",
              "Sharom Mor",
              "Yuval Badihi"
            ],
            "_view_count": null,
            "_view_module": "@jupyter-widgets/controls",
            "_view_module_version": "1.5.0",
            "_view_name": "DropdownView",
            "description": "Student:",
            "description_tooltip": null,
            "disabled": false,
            "index": 1,
            "layout": "IPY_MODEL_8fdbe7dd02fd4dd78f4b1141d25192f0",
            "style": "IPY_MODEL_f4247ac5af574308833f7de7f085af44"
          }
        },
        "8fdbe7dd02fd4dd78f4b1141d25192f0": {
          "model_module": "@jupyter-widgets/base",
          "model_name": "LayoutModel",
          "model_module_version": "1.2.0",
          "state": {
            "_model_module": "@jupyter-widgets/base",
            "_model_module_version": "1.2.0",
            "_model_name": "LayoutModel",
            "_view_count": null,
            "_view_module": "@jupyter-widgets/base",
            "_view_module_version": "1.2.0",
            "_view_name": "LayoutView",
            "align_content": null,
            "align_items": null,
            "align_self": null,
            "border": null,
            "bottom": null,
            "display": null,
            "flex": null,
            "flex_flow": null,
            "grid_area": null,
            "grid_auto_columns": null,
            "grid_auto_flow": null,
            "grid_auto_rows": null,
            "grid_column": null,
            "grid_gap": null,
            "grid_row": null,
            "grid_template_areas": null,
            "grid_template_columns": null,
            "grid_template_rows": null,
            "height": null,
            "justify_content": null,
            "justify_items": null,
            "left": null,
            "margin": null,
            "max_height": null,
            "max_width": null,
            "min_height": null,
            "min_width": null,
            "object_fit": null,
            "object_position": null,
            "order": null,
            "overflow": null,
            "overflow_x": null,
            "overflow_y": null,
            "padding": null,
            "right": null,
            "top": null,
            "visibility": null,
            "width": null
          }
        },
        "f4247ac5af574308833f7de7f085af44": {
          "model_module": "@jupyter-widgets/controls",
          "model_name": "DescriptionStyleModel",
          "model_module_version": "1.5.0",
          "state": {
            "_model_module": "@jupyter-widgets/controls",
            "_model_module_version": "1.5.0",
            "_model_name": "DescriptionStyleModel",
            "_view_count": null,
            "_view_module": "@jupyter-widgets/base",
            "_view_module_version": "1.2.0",
            "_view_name": "StyleView",
            "description_width": ""
          }
        },
        "5cc693363c2d4775ba7d7e471d738c23": {
          "model_module": "@jupyter-widgets/output",
          "model_name": "OutputModel",
          "model_module_version": "1.0.0",
          "state": {
            "_dom_classes": [],
            "_model_module": "@jupyter-widgets/output",
            "_model_module_version": "1.0.0",
            "_model_name": "OutputModel",
            "_view_count": null,
            "_view_module": "@jupyter-widgets/output",
            "_view_module_version": "1.0.0",
            "_view_name": "OutputView",
            "layout": "IPY_MODEL_f352faf2ae8847519e608ba3b8732fac",
            "msg_id": "",
            "outputs": []
          }
        },
        "f352faf2ae8847519e608ba3b8732fac": {
          "model_module": "@jupyter-widgets/base",
          "model_name": "LayoutModel",
          "model_module_version": "1.2.0",
          "state": {
            "_model_module": "@jupyter-widgets/base",
            "_model_module_version": "1.2.0",
            "_model_name": "LayoutModel",
            "_view_count": null,
            "_view_module": "@jupyter-widgets/base",
            "_view_module_version": "1.2.0",
            "_view_name": "LayoutView",
            "align_content": null,
            "align_items": null,
            "align_self": null,
            "border": null,
            "bottom": null,
            "display": null,
            "flex": null,
            "flex_flow": null,
            "grid_area": null,
            "grid_auto_columns": null,
            "grid_auto_flow": null,
            "grid_auto_rows": null,
            "grid_column": null,
            "grid_gap": null,
            "grid_row": null,
            "grid_template_areas": null,
            "grid_template_columns": null,
            "grid_template_rows": null,
            "height": null,
            "justify_content": null,
            "justify_items": null,
            "left": null,
            "margin": null,
            "max_height": null,
            "max_width": null,
            "min_height": null,
            "min_width": null,
            "object_fit": null,
            "object_position": null,
            "order": null,
            "overflow": null,
            "overflow_x": null,
            "overflow_y": null,
            "padding": null,
            "right": null,
            "top": null,
            "visibility": null,
            "width": null
          }
        },
        "ee4d1ae18318475a9813364bddd80ccf": {
          "model_module": "@jupyter-widgets/controls",
          "model_name": "TextModel",
          "model_module_version": "1.5.0",
          "state": {
            "_dom_classes": [],
            "_model_module": "@jupyter-widgets/controls",
            "_model_module_version": "1.5.0",
            "_model_name": "TextModel",
            "_view_count": null,
            "_view_module": "@jupyter-widgets/controls",
            "_view_module_version": "1.5.0",
            "_view_name": "TextView",
            "continuous_update": true,
            "description": "ID:",
            "description_tooltip": null,
            "disabled": true,
            "layout": "IPY_MODEL_ab2f474c9db443cb8cbc2d207dcf4ec6",
            "placeholder": "​",
            "style": "IPY_MODEL_edced40099524849a7fecf469be02814",
            "value": "208111146"
          }
        },
        "ab2f474c9db443cb8cbc2d207dcf4ec6": {
          "model_module": "@jupyter-widgets/base",
          "model_name": "LayoutModel",
          "model_module_version": "1.2.0",
          "state": {
            "_model_module": "@jupyter-widgets/base",
            "_model_module_version": "1.2.0",
            "_model_name": "LayoutModel",
            "_view_count": null,
            "_view_module": "@jupyter-widgets/base",
            "_view_module_version": "1.2.0",
            "_view_name": "LayoutView",
            "align_content": null,
            "align_items": null,
            "align_self": null,
            "border": null,
            "bottom": null,
            "display": null,
            "flex": null,
            "flex_flow": null,
            "grid_area": null,
            "grid_auto_columns": null,
            "grid_auto_flow": null,
            "grid_auto_rows": null,
            "grid_column": null,
            "grid_gap": null,
            "grid_row": null,
            "grid_template_areas": null,
            "grid_template_columns": null,
            "grid_template_rows": null,
            "height": null,
            "justify_content": null,
            "justify_items": null,
            "left": null,
            "margin": null,
            "max_height": null,
            "max_width": null,
            "min_height": null,
            "min_width": null,
            "object_fit": null,
            "object_position": null,
            "order": null,
            "overflow": null,
            "overflow_x": null,
            "overflow_y": null,
            "padding": null,
            "right": null,
            "top": null,
            "visibility": null,
            "width": null
          }
        },
        "edced40099524849a7fecf469be02814": {
          "model_module": "@jupyter-widgets/controls",
          "model_name": "DescriptionStyleModel",
          "model_module_version": "1.5.0",
          "state": {
            "_model_module": "@jupyter-widgets/controls",
            "_model_module_version": "1.5.0",
            "_model_name": "DescriptionStyleModel",
            "_view_count": null,
            "_view_module": "@jupyter-widgets/base",
            "_view_module_version": "1.2.0",
            "_view_name": "StyleView",
            "description_width": ""
          }
        },
        "5bd40df832ea42ffaa4752c66b10ad88": {
          "model_module": "@jupyter-widgets/controls",
          "model_name": "TextModel",
          "model_module_version": "1.5.0",
          "state": {
            "_dom_classes": [],
            "_model_module": "@jupyter-widgets/controls",
            "_model_module_version": "1.5.0",
            "_model_name": "TextModel",
            "_view_count": null,
            "_view_module": "@jupyter-widgets/controls",
            "_view_module_version": "1.5.0",
            "_view_name": "TextView",
            "continuous_update": true,
            "description": "Mail:",
            "description_tooltip": null,
            "disabled": true,
            "layout": "IPY_MODEL_d9e4c3fb956b420bbe35e33215bcf720",
            "placeholder": "​",
            "style": "IPY_MODEL_783b165ebb974438b9a8924b5c779f78",
            "value": "michal.ginat@e.braude.ac.il"
          }
        },
        "d9e4c3fb956b420bbe35e33215bcf720": {
          "model_module": "@jupyter-widgets/base",
          "model_name": "LayoutModel",
          "model_module_version": "1.2.0",
          "state": {
            "_model_module": "@jupyter-widgets/base",
            "_model_module_version": "1.2.0",
            "_model_name": "LayoutModel",
            "_view_count": null,
            "_view_module": "@jupyter-widgets/base",
            "_view_module_version": "1.2.0",
            "_view_name": "LayoutView",
            "align_content": null,
            "align_items": null,
            "align_self": null,
            "border": null,
            "bottom": null,
            "display": null,
            "flex": null,
            "flex_flow": null,
            "grid_area": null,
            "grid_auto_columns": null,
            "grid_auto_flow": null,
            "grid_auto_rows": null,
            "grid_column": null,
            "grid_gap": null,
            "grid_row": null,
            "grid_template_areas": null,
            "grid_template_columns": null,
            "grid_template_rows": null,
            "height": null,
            "justify_content": null,
            "justify_items": null,
            "left": null,
            "margin": null,
            "max_height": null,
            "max_width": null,
            "min_height": null,
            "min_width": null,
            "object_fit": null,
            "object_position": null,
            "order": null,
            "overflow": null,
            "overflow_x": null,
            "overflow_y": null,
            "padding": null,
            "right": null,
            "top": null,
            "visibility": null,
            "width": null
          }
        },
        "783b165ebb974438b9a8924b5c779f78": {
          "model_module": "@jupyter-widgets/controls",
          "model_name": "DescriptionStyleModel",
          "model_module_version": "1.5.0",
          "state": {
            "_model_module": "@jupyter-widgets/controls",
            "_model_module_version": "1.5.0",
            "_model_name": "DescriptionStyleModel",
            "_view_count": null,
            "_view_module": "@jupyter-widgets/base",
            "_view_module_version": "1.2.0",
            "_view_name": "StyleView",
            "description_width": ""
          }
        },
        "09f382602eee426db4e4435cc866a5ca": {
          "model_module": "@jupyter-widgets/controls",
          "model_name": "TextModel",
          "model_module_version": "1.5.0",
          "state": {
            "_dom_classes": [],
            "_model_module": "@jupyter-widgets/controls",
            "_model_module_version": "1.5.0",
            "_model_name": "TextModel",
            "_view_count": null,
            "_view_module": "@jupyter-widgets/controls",
            "_view_module_version": "1.5.0",
            "_view_name": "TextView",
            "continuous_update": true,
            "description": "Courses:",
            "description_tooltip": null,
            "disabled": true,
            "layout": "IPY_MODEL_577131cdc35145aaa71e8d04986d6335",
            "placeholder": "​",
            "style": "IPY_MODEL_dfe346e419bd47a6ab2d07b82beaf514",
            "value": "a b c d e f"
          }
        },
        "577131cdc35145aaa71e8d04986d6335": {
          "model_module": "@jupyter-widgets/base",
          "model_name": "LayoutModel",
          "model_module_version": "1.2.0",
          "state": {
            "_model_module": "@jupyter-widgets/base",
            "_model_module_version": "1.2.0",
            "_model_name": "LayoutModel",
            "_view_count": null,
            "_view_module": "@jupyter-widgets/base",
            "_view_module_version": "1.2.0",
            "_view_name": "LayoutView",
            "align_content": null,
            "align_items": null,
            "align_self": null,
            "border": null,
            "bottom": null,
            "display": null,
            "flex": null,
            "flex_flow": null,
            "grid_area": null,
            "grid_auto_columns": null,
            "grid_auto_flow": null,
            "grid_auto_rows": null,
            "grid_column": null,
            "grid_gap": null,
            "grid_row": null,
            "grid_template_areas": null,
            "grid_template_columns": null,
            "grid_template_rows": null,
            "height": null,
            "justify_content": null,
            "justify_items": null,
            "left": null,
            "margin": null,
            "max_height": null,
            "max_width": null,
            "min_height": null,
            "min_width": null,
            "object_fit": null,
            "object_position": null,
            "order": null,
            "overflow": null,
            "overflow_x": null,
            "overflow_y": null,
            "padding": null,
            "right": null,
            "top": null,
            "visibility": null,
            "width": null
          }
        },
        "dfe346e419bd47a6ab2d07b82beaf514": {
          "model_module": "@jupyter-widgets/controls",
          "model_name": "DescriptionStyleModel",
          "model_module_version": "1.5.0",
          "state": {
            "_model_module": "@jupyter-widgets/controls",
            "_model_module_version": "1.5.0",
            "_model_name": "DescriptionStyleModel",
            "_view_count": null,
            "_view_module": "@jupyter-widgets/base",
            "_view_module_version": "1.2.0",
            "_view_name": "StyleView",
            "description_width": ""
          }
        },
        "a63f8c6afdb8493cb026e5e9cfbffd08": {
          "model_module": "@jupyter-widgets/controls",
          "model_name": "TextModel",
          "model_module_version": "1.5.0",
          "state": {
            "_dom_classes": [],
            "_model_module": "@jupyter-widgets/controls",
            "_model_module_version": "1.5.0",
            "_model_name": "TextModel",
            "_view_count": null,
            "_view_module": "@jupyter-widgets/controls",
            "_view_module_version": "1.5.0",
            "_view_name": "TextView",
            "continuous_update": true,
            "description": "Link:",
            "description_tooltip": null,
            "disabled": true,
            "layout": "IPY_MODEL_ed92453f929149f995c08a7b253c2690",
            "placeholder": "​",
            "style": "IPY_MODEL_a6323b100f3145e4965b7ab4cbeed7d8",
            "value": "https://www.netflix.com/browse\n"
          }
        },
        "ed92453f929149f995c08a7b253c2690": {
          "model_module": "@jupyter-widgets/base",
          "model_name": "LayoutModel",
          "model_module_version": "1.2.0",
          "state": {
            "_model_module": "@jupyter-widgets/base",
            "_model_module_version": "1.2.0",
            "_model_name": "LayoutModel",
            "_view_count": null,
            "_view_module": "@jupyter-widgets/base",
            "_view_module_version": "1.2.0",
            "_view_name": "LayoutView",
            "align_content": null,
            "align_items": null,
            "align_self": null,
            "border": null,
            "bottom": null,
            "display": null,
            "flex": null,
            "flex_flow": null,
            "grid_area": null,
            "grid_auto_columns": null,
            "grid_auto_flow": null,
            "grid_auto_rows": null,
            "grid_column": null,
            "grid_gap": null,
            "grid_row": null,
            "grid_template_areas": null,
            "grid_template_columns": null,
            "grid_template_rows": null,
            "height": null,
            "justify_content": null,
            "justify_items": null,
            "left": null,
            "margin": null,
            "max_height": null,
            "max_width": null,
            "min_height": null,
            "min_width": null,
            "object_fit": null,
            "object_position": null,
            "order": null,
            "overflow": null,
            "overflow_x": null,
            "overflow_y": null,
            "padding": null,
            "right": null,
            "top": null,
            "visibility": null,
            "width": null
          }
        },
        "a6323b100f3145e4965b7ab4cbeed7d8": {
          "model_module": "@jupyter-widgets/controls",
          "model_name": "DescriptionStyleModel",
          "model_module_version": "1.5.0",
          "state": {
            "_model_module": "@jupyter-widgets/controls",
            "_model_module_version": "1.5.0",
            "_model_name": "DescriptionStyleModel",
            "_view_count": null,
            "_view_module": "@jupyter-widgets/base",
            "_view_module_version": "1.2.0",
            "_view_name": "StyleView",
            "description_width": ""
          }
        },
        "6fbb913f605644b495165ac92e967c4a": {
          "model_module": "@jupyter-widgets/controls",
          "model_name": "TextModel",
          "model_module_version": "1.5.0",
          "state": {
            "_dom_classes": [],
            "_model_module": "@jupyter-widgets/controls",
            "_model_module_version": "1.5.0",
            "_model_name": "TextModel",
            "_view_count": null,
            "_view_module": "@jupyter-widgets/controls",
            "_view_module_version": "1.5.0",
            "_view_name": "TextView",
            "continuous_update": true,
            "description": "Fav show:",
            "description_tooltip": null,
            "disabled": false,
            "layout": "IPY_MODEL_b1301c7836624872a949f10d4498453e",
            "placeholder": "​",
            "style": "IPY_MODEL_da36df07fcf94397a3ad65285c51b428",
            "value": ""
          }
        },
        "b1301c7836624872a949f10d4498453e": {
          "model_module": "@jupyter-widgets/base",
          "model_name": "LayoutModel",
          "model_module_version": "1.2.0",
          "state": {
            "_model_module": "@jupyter-widgets/base",
            "_model_module_version": "1.2.0",
            "_model_name": "LayoutModel",
            "_view_count": null,
            "_view_module": "@jupyter-widgets/base",
            "_view_module_version": "1.2.0",
            "_view_name": "LayoutView",
            "align_content": null,
            "align_items": null,
            "align_self": null,
            "border": null,
            "bottom": null,
            "display": null,
            "flex": null,
            "flex_flow": null,
            "grid_area": null,
            "grid_auto_columns": null,
            "grid_auto_flow": null,
            "grid_auto_rows": null,
            "grid_column": null,
            "grid_gap": null,
            "grid_row": null,
            "grid_template_areas": null,
            "grid_template_columns": null,
            "grid_template_rows": null,
            "height": null,
            "justify_content": null,
            "justify_items": null,
            "left": null,
            "margin": null,
            "max_height": null,
            "max_width": null,
            "min_height": null,
            "min_width": null,
            "object_fit": null,
            "object_position": null,
            "order": null,
            "overflow": null,
            "overflow_x": null,
            "overflow_y": null,
            "padding": null,
            "right": null,
            "top": null,
            "visibility": null,
            "width": null
          }
        },
        "da36df07fcf94397a3ad65285c51b428": {
          "model_module": "@jupyter-widgets/controls",
          "model_name": "DescriptionStyleModel",
          "model_module_version": "1.5.0",
          "state": {
            "_model_module": "@jupyter-widgets/controls",
            "_model_module_version": "1.5.0",
            "_model_name": "DescriptionStyleModel",
            "_view_count": null,
            "_view_module": "@jupyter-widgets/base",
            "_view_module_version": "1.2.0",
            "_view_name": "StyleView",
            "description_width": ""
          }
        },
        "6535d563bdf54dd9a5d8358ad966abca": {
          "model_module": "@jupyter-widgets/controls",
          "model_name": "ButtonModel",
          "model_module_version": "1.5.0",
          "state": {
            "_dom_classes": [],
            "_model_module": "@jupyter-widgets/controls",
            "_model_module_version": "1.5.0",
            "_model_name": "ButtonModel",
            "_view_count": null,
            "_view_module": "@jupyter-widgets/controls",
            "_view_module_version": "1.5.0",
            "_view_name": "ButtonView",
            "button_style": "success",
            "description": "Update student",
            "disabled": false,
            "icon": "check",
            "layout": "IPY_MODEL_5ad201c066c74dfa87001be547d14abc",
            "style": "IPY_MODEL_235269fed66e4d3d9037181d70ad5a79",
            "tooltip": ""
          }
        },
        "5ad201c066c74dfa87001be547d14abc": {
          "model_module": "@jupyter-widgets/base",
          "model_name": "LayoutModel",
          "model_module_version": "1.2.0",
          "state": {
            "_model_module": "@jupyter-widgets/base",
            "_model_module_version": "1.2.0",
            "_model_name": "LayoutModel",
            "_view_count": null,
            "_view_module": "@jupyter-widgets/base",
            "_view_module_version": "1.2.0",
            "_view_name": "LayoutView",
            "align_content": null,
            "align_items": null,
            "align_self": null,
            "border": null,
            "bottom": null,
            "display": null,
            "flex": null,
            "flex_flow": null,
            "grid_area": null,
            "grid_auto_columns": null,
            "grid_auto_flow": null,
            "grid_auto_rows": null,
            "grid_column": null,
            "grid_gap": null,
            "grid_row": null,
            "grid_template_areas": null,
            "grid_template_columns": null,
            "grid_template_rows": null,
            "height": null,
            "justify_content": null,
            "justify_items": null,
            "left": null,
            "margin": null,
            "max_height": null,
            "max_width": null,
            "min_height": null,
            "min_width": null,
            "object_fit": null,
            "object_position": null,
            "order": null,
            "overflow": null,
            "overflow_x": null,
            "overflow_y": null,
            "padding": null,
            "right": null,
            "top": null,
            "visibility": null,
            "width": null
          }
        },
        "235269fed66e4d3d9037181d70ad5a79": {
          "model_module": "@jupyter-widgets/controls",
          "model_name": "ButtonStyleModel",
          "model_module_version": "1.5.0",
          "state": {
            "_model_module": "@jupyter-widgets/controls",
            "_model_module_version": "1.5.0",
            "_model_name": "ButtonStyleModel",
            "_view_count": null,
            "_view_module": "@jupyter-widgets/base",
            "_view_module_version": "1.2.0",
            "_view_name": "StyleView",
            "button_color": null,
            "font_weight": ""
          }
        }
      }
    }
  },
  "cells": [
    {
      "cell_type": "markdown",
      "metadata": {
        "id": "view-in-github",
        "colab_type": "text"
      },
      "source": [
        "<a href=\"https://colab.research.google.com/github/PoiZeX/test/blob/main/ex2Form.ipynb\" target=\"_parent\"><img src=\"https://colab.research.google.com/assets/colab-badge.svg\" alt=\"Open In Colab\"/></a>"
      ]
    },
    {
      "cell_type": "code",
      "execution_count": 119,
      "metadata": {
        "colab": {
          "base_uri": "https://localhost:8080/"
        },
        "id": "Lb4QZiHe5kCe",
        "outputId": "15d1ef38-e53a-470a-85ba-389d5469f675"
      },
      "outputs": [
        {
          "output_type": "stream",
          "name": "stdout",
          "text": [
            "Lidor Ankava, 205818958, lidor.ankava@e.braude.ac.il, a b c d e f, https://www.maccabi-haifa.com/\n",
            "Michal Ginat, 208111146, michal.ginat@e.braude.ac.il, a b c d e f, https://www.netflix.com/browse\n",
            "Gal Polak, 208638015 , gal.polak@e.braude.ac.il, b d e f, https://mail.google.com/mail/\n",
            "Sharom Mor, 207470329, sharom.mor@e.braude.ac.il, a b c d e, https://presents.htzone.co.il/\n",
            "Yuval Badihi, 206850612, yuval.badihi@e.braude.ac.il, b d e f, https://moodle22.braude.ac.il/\n"
          ]
        }
      ],
      "source": [
        "contentToWriteCuzImLazy = \"Lidor Ankava, 205818958, lidor.ankava@e.braude.ac.il, a b c d e f, https://www.maccabi-haifa.com/\"\n",
        "contentToWriteCuzImLazy += \"\\nMichal Ginat, 208111146, michal.ginat@e.braude.ac.il, a b c d e f, https://www.netflix.com/browse\"\n",
        "contentToWriteCuzImLazy += \"\\nGal Polak, 208638015 , gal.polak@e.braude.ac.il, b d e f, https://mail.google.com/mail/\"\n",
        "contentToWriteCuzImLazy += \"\\nSharom Mor, 207470329, sharom.mor@e.braude.ac.il, a b c d e, https://presents.htzone.co.il/\"\n",
        "contentToWriteCuzImLazy += \"\\nYuval Badihi, 206850612, yuval.badihi@e.braude.ac.il, b d e f, https://moodle22.braude.ac.il/\"\n",
        "\n",
        "print(contentToWriteCuzImLazy)"
      ]
    },
    {
      "cell_type": "code",
      "source": [
        "# initialize\n",
        "from google.colab import drive\n",
        "drive.mount('/content/drive')\n",
        "%cd /content/drive/MyDrive\n",
        "filePath = 'students.txt';\n",
        "\n"
      ],
      "metadata": {
        "colab": {
          "base_uri": "https://localhost:8080/"
        },
        "id": "vgIF1OA268az",
        "outputId": "e9fb9bc2-c658-4cba-9fd4-c3568a4a5c20"
      },
      "execution_count": 120,
      "outputs": [
        {
          "output_type": "stream",
          "name": "stdout",
          "text": [
            "Drive already mounted at /content/drive; to attempt to forcibly remount, call drive.mount(\"/content/drive\", force_remount=True).\n",
            "/content/drive/MyDrive\n"
          ]
        }
      ]
    },
    {
      "cell_type": "code",
      "source": [
        "# create the file (just one time)\n",
        "with open(filePath, 'w') as file: \n",
        "  file.write(contentToWriteCuzImLazy) \n",
        "file.close()\n"
      ],
      "metadata": {
        "id": "HVReXsHZ8Lhw"
      },
      "execution_count": 121,
      "outputs": []
    },
    {
      "cell_type": "markdown",
      "source": [
        "# The code"
      ],
      "metadata": {
        "id": "JtiWU5oTg0NR"
      }
    },
    {
      "cell_type": "code",
      "source": [
        "# Read each line\n",
        "with open(filePath, 'r') as file:\n",
        "  contents = file.readlines()\n",
        "  print(contents)\n",
        "file.close()\n",
        "\n",
        "lst = []\n",
        "for line in contents:\n",
        "    lst.append(line.split(\", \"))\n",
        "\n",
        "for line in lst:\n",
        "  print(line)\n",
        "\n"
      ],
      "metadata": {
        "colab": {
          "base_uri": "https://localhost:8080/"
        },
        "id": "qA9aTo1QhcAV",
        "outputId": "975e2420-779d-482d-918a-37a8df7bdb6e"
      },
      "execution_count": 122,
      "outputs": [
        {
          "output_type": "stream",
          "name": "stdout",
          "text": [
            "['Lidor Ankava, 205818958, lidor.ankava@e.braude.ac.il, a b c d e f, https://www.maccabi-haifa.com/\\n', 'Michal Ginat, 208111146, michal.ginat@e.braude.ac.il, a b c d e f, https://www.netflix.com/browse\\n', 'Gal Polak, 208638015 , gal.polak@e.braude.ac.il, b d e f, https://mail.google.com/mail/\\n', 'Sharom Mor, 207470329, sharom.mor@e.braude.ac.il, a b c d e, https://presents.htzone.co.il/\\n', 'Yuval Badihi, 206850612, yuval.badihi@e.braude.ac.il, b d e f, https://moodle22.braude.ac.il/']\n",
            "['Lidor Ankava', '205818958', 'lidor.ankava@e.braude.ac.il', 'a b c d e f', 'https://www.maccabi-haifa.com/\\n']\n",
            "['Michal Ginat', '208111146', 'michal.ginat@e.braude.ac.il', 'a b c d e f', 'https://www.netflix.com/browse\\n']\n",
            "['Gal Polak', '208638015 ', 'gal.polak@e.braude.ac.il', 'b d e f', 'https://mail.google.com/mail/\\n']\n",
            "['Sharom Mor', '207470329', 'sharom.mor@e.braude.ac.il', 'a b c d e', 'https://presents.htzone.co.il/\\n']\n",
            "['Yuval Badihi', '206850612', 'yuval.badihi@e.braude.ac.il', 'b d e f', 'https://moodle22.braude.ac.il/']\n"
          ]
        }
      ]
    },
    {
      "cell_type": "code",
      "source": [],
      "metadata": {
        "colab": {
          "base_uri": "https://localhost:8080/",
          "height": 17
        },
        "id": "AafsSdcZ6sKq",
        "outputId": "c4766f2f-4acb-492c-964c-2501664e140a"
      },
      "execution_count": 125,
      "outputs": [
        {
          "output_type": "display_data",
          "data": {
            "text/plain": [
              "<IPython.core.display.HTML object>"
            ],
            "text/html": [
              "<style>\n",
              "body {\n",
              "  background-color: #f2bcca;\n",
              "}\n",
              "</style>\n"
            ]
          },
          "metadata": {}
        }
      ]
    },
    {
      "cell_type": "code",
      "source": [
        "\n",
        "import ipywidgets as widgets\n",
        "from ipywidgets import Layout\n",
        "\n",
        "from IPython.display import display\n",
        "\n",
        "students = []\n",
        "currentStudentIndex = 0\n",
        "\n",
        "def on_change(change):\n",
        "    if change['type'] == 'change' and change['name'] == 'value':\n",
        "        setupStudentToForm(change['new']-1) # initialize the selected student\n",
        "\n",
        "def setupStudentToForm(studentIndex):\n",
        "      global currentStudentIndex\n",
        "      currentStudentIndex = studentIndex\n",
        "      txt_id.value = lst[studentIndex][1]\n",
        "      txt_mail.value = lst[studentIndex][2]\n",
        "      txt_courses.value = lst[studentIndex][3]\n",
        "      txt_link.value = lst[studentIndex][4]\n",
        "      #print(lst[studentIndex])\n",
        "\n",
        "for i in range(len(lst)):\n",
        "  students.append((lst[i][0], i+1))\n",
        "\n",
        "## initialize Form\n",
        "cb_students = widgets.Dropdown(\n",
        "    options=students,\n",
        "    description='Student:',\n",
        "    disabled=False,\n",
        ")\n",
        "\n",
        "txt_id = widgets.Text(\n",
        "    description='ID:',\n",
        "        disabled=True,\n",
        ")\n",
        "\n",
        "txt_mail = widgets.Text(\n",
        "    description='Mail:',\n",
        "        disabled=True,\n",
        ")\n",
        "\n",
        "txt_courses = widgets.Text(\n",
        "    description='Courses:',\n",
        "        disabled=True,\n",
        ")\n",
        "\n",
        "txt_link = widgets.Text(\n",
        "    description='Link:',\n",
        "        disabled=True,\n",
        ")\n",
        "\n",
        "txt_favShow = widgets.Text(\n",
        "    description='Fav show:',\n",
        "   # layout = Layout(width='50%', height='80px', padding='10px')\n",
        "\n",
        ")\n",
        "\n",
        "#setup the first student info\n",
        "setupStudentToForm(currentStudentIndex) \n",
        "cb_students.observe(on_change)\n",
        "\n",
        "def on_button_clicked(b):\n",
        "\n",
        "  \n",
        "  # Display the message within the output widget.\n",
        "    with open(filePath, 'a') as file: \n",
        "      studentInfo = lst[currentStudentIndex]\n",
        "      str_to_write = \"\"\n",
        "      for i in range(len(studentInfo)):\n",
        "          str_to_write += studentInfo[i] + \", \"\n",
        "      str_to_write += txt_favShow.value\n",
        "      file.write(\"\\n\"+str_to_write) \n",
        "\n",
        "button = widgets.Button(\n",
        "    description='Update student',\n",
        "    disabled=False,\n",
        "    button_style='success', \n",
        "    icon='check'\n",
        ")\n",
        "button.on_click(on_button_clicked)\n",
        "\n",
        "\n",
        "output = widgets.Output()\n",
        "elements = [cb_students, txt_id, txt_mail, txt_courses, txt_link, txt_favShow, button]\n",
        "for element in elements:\n",
        "  display(element, output)\n"
      ],
      "metadata": {
        "colab": {
          "base_uri": "https://localhost:8080/",
          "height": 231,
          "referenced_widgets": [
            "1618e3e08b6c4dfeab66a68c5229e1f5",
            "8fdbe7dd02fd4dd78f4b1141d25192f0",
            "f4247ac5af574308833f7de7f085af44",
            "5cc693363c2d4775ba7d7e471d738c23",
            "f352faf2ae8847519e608ba3b8732fac",
            "ee4d1ae18318475a9813364bddd80ccf",
            "ab2f474c9db443cb8cbc2d207dcf4ec6",
            "edced40099524849a7fecf469be02814",
            "5bd40df832ea42ffaa4752c66b10ad88",
            "d9e4c3fb956b420bbe35e33215bcf720",
            "783b165ebb974438b9a8924b5c779f78",
            "09f382602eee426db4e4435cc866a5ca",
            "577131cdc35145aaa71e8d04986d6335",
            "dfe346e419bd47a6ab2d07b82beaf514",
            "a63f8c6afdb8493cb026e5e9cfbffd08",
            "ed92453f929149f995c08a7b253c2690",
            "a6323b100f3145e4965b7ab4cbeed7d8",
            "6fbb913f605644b495165ac92e967c4a",
            "b1301c7836624872a949f10d4498453e",
            "da36df07fcf94397a3ad65285c51b428",
            "6535d563bdf54dd9a5d8358ad966abca",
            "5ad201c066c74dfa87001be547d14abc",
            "235269fed66e4d3d9037181d70ad5a79"
          ]
        },
        "id": "q6joX6Fhh6u9",
        "outputId": "879d7e8d-8b54-455e-9cbb-f1824c8631df"
      },
      "execution_count": 134,
      "outputs": [
        {
          "output_type": "display_data",
          "data": {
            "text/plain": [
              "Dropdown(description='Student:', options=(('Lidor Ankava', 1), ('Michal Ginat', 2), ('Gal Polak', 3), ('Sharom…"
            ],
            "application/vnd.jupyter.widget-view+json": {
              "version_major": 2,
              "version_minor": 0,
              "model_id": "1618e3e08b6c4dfeab66a68c5229e1f5"
            }
          },
          "metadata": {}
        },
        {
          "output_type": "display_data",
          "data": {
            "text/plain": [
              "Output()"
            ],
            "application/vnd.jupyter.widget-view+json": {
              "version_major": 2,
              "version_minor": 0,
              "model_id": "5cc693363c2d4775ba7d7e471d738c23"
            }
          },
          "metadata": {}
        },
        {
          "output_type": "display_data",
          "data": {
            "text/plain": [
              "Text(value='205818958', description='ID:', disabled=True)"
            ],
            "application/vnd.jupyter.widget-view+json": {
              "version_major": 2,
              "version_minor": 0,
              "model_id": "ee4d1ae18318475a9813364bddd80ccf"
            }
          },
          "metadata": {}
        },
        {
          "output_type": "display_data",
          "data": {
            "text/plain": [
              "Output()"
            ],
            "application/vnd.jupyter.widget-view+json": {
              "version_major": 2,
              "version_minor": 0,
              "model_id": "5cc693363c2d4775ba7d7e471d738c23"
            }
          },
          "metadata": {}
        },
        {
          "output_type": "display_data",
          "data": {
            "text/plain": [
              "Text(value='lidor.ankava@e.braude.ac.il', description='Mail:', disabled=True)"
            ],
            "application/vnd.jupyter.widget-view+json": {
              "version_major": 2,
              "version_minor": 0,
              "model_id": "5bd40df832ea42ffaa4752c66b10ad88"
            }
          },
          "metadata": {}
        },
        {
          "output_type": "display_data",
          "data": {
            "text/plain": [
              "Output()"
            ],
            "application/vnd.jupyter.widget-view+json": {
              "version_major": 2,
              "version_minor": 0,
              "model_id": "5cc693363c2d4775ba7d7e471d738c23"
            }
          },
          "metadata": {}
        },
        {
          "output_type": "display_data",
          "data": {
            "text/plain": [
              "Text(value='a b c d e f', description='Courses:', disabled=True)"
            ],
            "application/vnd.jupyter.widget-view+json": {
              "version_major": 2,
              "version_minor": 0,
              "model_id": "09f382602eee426db4e4435cc866a5ca"
            }
          },
          "metadata": {}
        },
        {
          "output_type": "display_data",
          "data": {
            "text/plain": [
              "Output()"
            ],
            "application/vnd.jupyter.widget-view+json": {
              "version_major": 2,
              "version_minor": 0,
              "model_id": "5cc693363c2d4775ba7d7e471d738c23"
            }
          },
          "metadata": {}
        },
        {
          "output_type": "display_data",
          "data": {
            "text/plain": [
              "Text(value='https://www.maccabi-haifa.com/\\n', description='Link:', disabled=True)"
            ],
            "application/vnd.jupyter.widget-view+json": {
              "version_major": 2,
              "version_minor": 0,
              "model_id": "a63f8c6afdb8493cb026e5e9cfbffd08"
            }
          },
          "metadata": {}
        },
        {
          "output_type": "display_data",
          "data": {
            "text/plain": [
              "Output()"
            ],
            "application/vnd.jupyter.widget-view+json": {
              "version_major": 2,
              "version_minor": 0,
              "model_id": "5cc693363c2d4775ba7d7e471d738c23"
            }
          },
          "metadata": {}
        },
        {
          "output_type": "display_data",
          "data": {
            "text/plain": [
              "Text(value='', description='Fav show:')"
            ],
            "application/vnd.jupyter.widget-view+json": {
              "version_major": 2,
              "version_minor": 0,
              "model_id": "6fbb913f605644b495165ac92e967c4a"
            }
          },
          "metadata": {}
        },
        {
          "output_type": "display_data",
          "data": {
            "text/plain": [
              "Output()"
            ],
            "application/vnd.jupyter.widget-view+json": {
              "version_major": 2,
              "version_minor": 0,
              "model_id": "5cc693363c2d4775ba7d7e471d738c23"
            }
          },
          "metadata": {}
        },
        {
          "output_type": "display_data",
          "data": {
            "text/plain": [
              "Button(button_style='success', description='Update student', icon='check', style=ButtonStyle())"
            ],
            "application/vnd.jupyter.widget-view+json": {
              "version_major": 2,
              "version_minor": 0,
              "model_id": "6535d563bdf54dd9a5d8358ad966abca"
            }
          },
          "metadata": {}
        },
        {
          "output_type": "display_data",
          "data": {
            "text/plain": [
              "Output()"
            ],
            "application/vnd.jupyter.widget-view+json": {
              "version_major": 2,
              "version_minor": 0,
              "model_id": "5cc693363c2d4775ba7d7e471d738c23"
            }
          },
          "metadata": {}
        }
      ]
    }
  ]
}
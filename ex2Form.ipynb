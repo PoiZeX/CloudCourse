{
  "nbformat": 4,
  "nbformat_minor": 0,
  "metadata": {
    "colab": {
      "provenance": [],
      "authorship_tag": "ABX9TyMZ6H0KG/l0cGHKs70b9XGj",
      "include_colab_link": true
    },
    "kernelspec": {
      "name": "python3",
      "display_name": "Python 3"
    },
    "language_info": {
      "name": "python"
    },
    "widgets": {
      "application/vnd.jupyter.widget-state+json": {
        "ba66ce94dc414004b808b9b1f7457656": {
          "model_module": "@jupyter-widgets/controls",
          "model_name": "DropdownModel",
          "model_module_version": "1.5.0",
          "state": {
            "_dom_classes": [],
            "_model_module": "@jupyter-widgets/controls",
            "_model_module_version": "1.5.0",
            "_model_name": "DropdownModel",
            "_options_labels": [
              "Lidor Ankava",
              "Michal Ginat",
              "Gal Polak",
              "Sharom Mor",
              "Yuval Badihi"
            ],
            "_view_count": null,
            "_view_module": "@jupyter-widgets/controls",
            "_view_module_version": "1.5.0",
            "_view_name": "DropdownView",
            "description": "Student:",
            "description_tooltip": null,
            "disabled": false,
            "index": 2,
            "layout": "IPY_MODEL_456c650fc115402eb8db4c7de0b679bc",
            "style": "IPY_MODEL_cdd09a8ee4954cc49b725b45c84d6646"
          }
        },
        "456c650fc115402eb8db4c7de0b679bc": {
          "model_module": "@jupyter-widgets/base",
          "model_name": "LayoutModel",
          "model_module_version": "1.2.0",
          "state": {
            "_model_module": "@jupyter-widgets/base",
            "_model_module_version": "1.2.0",
            "_model_name": "LayoutModel",
            "_view_count": null,
            "_view_module": "@jupyter-widgets/base",
            "_view_module_version": "1.2.0",
            "_view_name": "LayoutView",
            "align_content": null,
            "align_items": null,
            "align_self": null,
            "border": null,
            "bottom": null,
            "display": null,
            "flex": null,
            "flex_flow": null,
            "grid_area": null,
            "grid_auto_columns": null,
            "grid_auto_flow": null,
            "grid_auto_rows": null,
            "grid_column": null,
            "grid_gap": null,
            "grid_row": null,
            "grid_template_areas": null,
            "grid_template_columns": null,
            "grid_template_rows": null,
            "height": null,
            "justify_content": null,
            "justify_items": null,
            "left": null,
            "margin": null,
            "max_height": null,
            "max_width": null,
            "min_height": null,
            "min_width": null,
            "object_fit": null,
            "object_position": null,
            "order": null,
            "overflow": null,
            "overflow_x": null,
            "overflow_y": null,
            "padding": null,
            "right": null,
            "top": null,
            "visibility": null,
            "width": null
          }
        },
        "cdd09a8ee4954cc49b725b45c84d6646": {
          "model_module": "@jupyter-widgets/controls",
          "model_name": "DescriptionStyleModel",
          "model_module_version": "1.5.0",
          "state": {
            "_model_module": "@jupyter-widgets/controls",
            "_model_module_version": "1.5.0",
            "_model_name": "DescriptionStyleModel",
            "_view_count": null,
            "_view_module": "@jupyter-widgets/base",
            "_view_module_version": "1.2.0",
            "_view_name": "StyleView",
            "description_width": ""
          }
        },
        "e555634c7e814652819bf324ee9b27f9": {
          "model_module": "@jupyter-widgets/output",
          "model_name": "OutputModel",
          "model_module_version": "1.0.0",
          "state": {
            "_dom_classes": [],
            "_model_module": "@jupyter-widgets/output",
            "_model_module_version": "1.0.0",
            "_model_name": "OutputModel",
            "_view_count": null,
            "_view_module": "@jupyter-widgets/output",
            "_view_module_version": "1.0.0",
            "_view_name": "OutputView",
            "layout": "IPY_MODEL_cff09d13a7634b19ab97f068a85d65b6",
            "msg_id": "",
            "outputs": []
          }
        },
        "cff09d13a7634b19ab97f068a85d65b6": {
          "model_module": "@jupyter-widgets/base",
          "model_name": "LayoutModel",
          "model_module_version": "1.2.0",
          "state": {
            "_model_module": "@jupyter-widgets/base",
            "_model_module_version": "1.2.0",
            "_model_name": "LayoutModel",
            "_view_count": null,
            "_view_module": "@jupyter-widgets/base",
            "_view_module_version": "1.2.0",
            "_view_name": "LayoutView",
            "align_content": null,
            "align_items": null,
            "align_self": null,
            "border": null,
            "bottom": null,
            "display": null,
            "flex": null,
            "flex_flow": null,
            "grid_area": null,
            "grid_auto_columns": null,
            "grid_auto_flow": null,
            "grid_auto_rows": null,
            "grid_column": null,
            "grid_gap": null,
            "grid_row": null,
            "grid_template_areas": null,
            "grid_template_columns": null,
            "grid_template_rows": null,
            "height": null,
            "justify_content": null,
            "justify_items": null,
            "left": null,
            "margin": null,
            "max_height": null,
            "max_width": null,
            "min_height": null,
            "min_width": null,
            "object_fit": null,
            "object_position": null,
            "order": null,
            "overflow": null,
            "overflow_x": null,
            "overflow_y": null,
            "padding": null,
            "right": null,
            "top": null,
            "visibility": null,
            "width": null
          }
        },
        "a1e7abb9921041299a8f1c24cf9a2359": {
          "model_module": "@jupyter-widgets/controls",
          "model_name": "TextModel",
          "model_module_version": "1.5.0",
          "state": {
            "_dom_classes": [],
            "_model_module": "@jupyter-widgets/controls",
            "_model_module_version": "1.5.0",
            "_model_name": "TextModel",
            "_view_count": null,
            "_view_module": "@jupyter-widgets/controls",
            "_view_module_version": "1.5.0",
            "_view_name": "TextView",
            "continuous_update": true,
            "description": "ID:",
            "description_tooltip": null,
            "disabled": true,
            "layout": "IPY_MODEL_ed8fed3c6c964713b142bef74761aef6",
            "placeholder": "​",
            "style": "IPY_MODEL_3ce5be7b27bf4aa0b588e2b1ac3ec8e3",
            "value": "208638015 "
          }
        },
        "ed8fed3c6c964713b142bef74761aef6": {
          "model_module": "@jupyter-widgets/base",
          "model_name": "LayoutModel",
          "model_module_version": "1.2.0",
          "state": {
            "_model_module": "@jupyter-widgets/base",
            "_model_module_version": "1.2.0",
            "_model_name": "LayoutModel",
            "_view_count": null,
            "_view_module": "@jupyter-widgets/base",
            "_view_module_version": "1.2.0",
            "_view_name": "LayoutView",
            "align_content": null,
            "align_items": null,
            "align_self": null,
            "border": null,
            "bottom": null,
            "display": null,
            "flex": null,
            "flex_flow": null,
            "grid_area": null,
            "grid_auto_columns": null,
            "grid_auto_flow": null,
            "grid_auto_rows": null,
            "grid_column": null,
            "grid_gap": null,
            "grid_row": null,
            "grid_template_areas": null,
            "grid_template_columns": null,
            "grid_template_rows": null,
            "height": null,
            "justify_content": null,
            "justify_items": null,
            "left": null,
            "margin": null,
            "max_height": null,
            "max_width": null,
            "min_height": null,
            "min_width": null,
            "object_fit": null,
            "object_position": null,
            "order": null,
            "overflow": null,
            "overflow_x": null,
            "overflow_y": null,
            "padding": null,
            "right": null,
            "top": null,
            "visibility": null,
            "width": null
          }
        },
        "3ce5be7b27bf4aa0b588e2b1ac3ec8e3": {
          "model_module": "@jupyter-widgets/controls",
          "model_name": "DescriptionStyleModel",
          "model_module_version": "1.5.0",
          "state": {
            "_model_module": "@jupyter-widgets/controls",
            "_model_module_version": "1.5.0",
            "_model_name": "DescriptionStyleModel",
            "_view_count": null,
            "_view_module": "@jupyter-widgets/base",
            "_view_module_version": "1.2.0",
            "_view_name": "StyleView",
            "description_width": ""
          }
        },
        "482522c4d4d1499f98805f8583396f80": {
          "model_module": "@jupyter-widgets/controls",
          "model_name": "TextModel",
          "model_module_version": "1.5.0",
          "state": {
            "_dom_classes": [],
            "_model_module": "@jupyter-widgets/controls",
            "_model_module_version": "1.5.0",
            "_model_name": "TextModel",
            "_view_count": null,
            "_view_module": "@jupyter-widgets/controls",
            "_view_module_version": "1.5.0",
            "_view_name": "TextView",
            "continuous_update": true,
            "description": "Mail:",
            "description_tooltip": null,
            "disabled": true,
            "layout": "IPY_MODEL_62db3ce3c0764f3895805acf073d2f97",
            "placeholder": "​",
            "style": "IPY_MODEL_20f91cc54fe04ab4ac1f78f15c9e84dc",
            "value": "gal.polak@e.braude.ac.il"
          }
        },
        "62db3ce3c0764f3895805acf073d2f97": {
          "model_module": "@jupyter-widgets/base",
          "model_name": "LayoutModel",
          "model_module_version": "1.2.0",
          "state": {
            "_model_module": "@jupyter-widgets/base",
            "_model_module_version": "1.2.0",
            "_model_name": "LayoutModel",
            "_view_count": null,
            "_view_module": "@jupyter-widgets/base",
            "_view_module_version": "1.2.0",
            "_view_name": "LayoutView",
            "align_content": null,
            "align_items": null,
            "align_self": null,
            "border": null,
            "bottom": null,
            "display": null,
            "flex": null,
            "flex_flow": null,
            "grid_area": null,
            "grid_auto_columns": null,
            "grid_auto_flow": null,
            "grid_auto_rows": null,
            "grid_column": null,
            "grid_gap": null,
            "grid_row": null,
            "grid_template_areas": null,
            "grid_template_columns": null,
            "grid_template_rows": null,
            "height": null,
            "justify_content": null,
            "justify_items": null,
            "left": null,
            "margin": null,
            "max_height": null,
            "max_width": null,
            "min_height": null,
            "min_width": null,
            "object_fit": null,
            "object_position": null,
            "order": null,
            "overflow": null,
            "overflow_x": null,
            "overflow_y": null,
            "padding": null,
            "right": null,
            "top": null,
            "visibility": null,
            "width": null
          }
        },
        "20f91cc54fe04ab4ac1f78f15c9e84dc": {
          "model_module": "@jupyter-widgets/controls",
          "model_name": "DescriptionStyleModel",
          "model_module_version": "1.5.0",
          "state": {
            "_model_module": "@jupyter-widgets/controls",
            "_model_module_version": "1.5.0",
            "_model_name": "DescriptionStyleModel",
            "_view_count": null,
            "_view_module": "@jupyter-widgets/base",
            "_view_module_version": "1.2.0",
            "_view_name": "StyleView",
            "description_width": ""
          }
        },
        "6626c039d96247548beb3ed70eae050c": {
          "model_module": "@jupyter-widgets/controls",
          "model_name": "TextModel",
          "model_module_version": "1.5.0",
          "state": {
            "_dom_classes": [],
            "_model_module": "@jupyter-widgets/controls",
            "_model_module_version": "1.5.0",
            "_model_name": "TextModel",
            "_view_count": null,
            "_view_module": "@jupyter-widgets/controls",
            "_view_module_version": "1.5.0",
            "_view_name": "TextView",
            "continuous_update": true,
            "description": "Courses:",
            "description_tooltip": null,
            "disabled": true,
            "layout": "IPY_MODEL_542380f87622479d912c9630a11391ab",
            "placeholder": "​",
            "style": "IPY_MODEL_dbedef174f444a9996c5c4574a9d5b47",
            "value": "b d e f"
          }
        },
        "542380f87622479d912c9630a11391ab": {
          "model_module": "@jupyter-widgets/base",
          "model_name": "LayoutModel",
          "model_module_version": "1.2.0",
          "state": {
            "_model_module": "@jupyter-widgets/base",
            "_model_module_version": "1.2.0",
            "_model_name": "LayoutModel",
            "_view_count": null,
            "_view_module": "@jupyter-widgets/base",
            "_view_module_version": "1.2.0",
            "_view_name": "LayoutView",
            "align_content": null,
            "align_items": null,
            "align_self": null,
            "border": null,
            "bottom": null,
            "display": null,
            "flex": null,
            "flex_flow": null,
            "grid_area": null,
            "grid_auto_columns": null,
            "grid_auto_flow": null,
            "grid_auto_rows": null,
            "grid_column": null,
            "grid_gap": null,
            "grid_row": null,
            "grid_template_areas": null,
            "grid_template_columns": null,
            "grid_template_rows": null,
            "height": null,
            "justify_content": null,
            "justify_items": null,
            "left": null,
            "margin": null,
            "max_height": null,
            "max_width": null,
            "min_height": null,
            "min_width": null,
            "object_fit": null,
            "object_position": null,
            "order": null,
            "overflow": null,
            "overflow_x": null,
            "overflow_y": null,
            "padding": null,
            "right": null,
            "top": null,
            "visibility": null,
            "width": null
          }
        },
        "dbedef174f444a9996c5c4574a9d5b47": {
          "model_module": "@jupyter-widgets/controls",
          "model_name": "DescriptionStyleModel",
          "model_module_version": "1.5.0",
          "state": {
            "_model_module": "@jupyter-widgets/controls",
            "_model_module_version": "1.5.0",
            "_model_name": "DescriptionStyleModel",
            "_view_count": null,
            "_view_module": "@jupyter-widgets/base",
            "_view_module_version": "1.2.0",
            "_view_name": "StyleView",
            "description_width": ""
          }
        },
        "10ef585d8e19409e87f61e2cc0e25e4a": {
          "model_module": "@jupyter-widgets/controls",
          "model_name": "TextModel",
          "model_module_version": "1.5.0",
          "state": {
            "_dom_classes": [],
            "_model_module": "@jupyter-widgets/controls",
            "_model_module_version": "1.5.0",
            "_model_name": "TextModel",
            "_view_count": null,
            "_view_module": "@jupyter-widgets/controls",
            "_view_module_version": "1.5.0",
            "_view_name": "TextView",
            "continuous_update": true,
            "description": "Link:",
            "description_tooltip": null,
            "disabled": true,
            "layout": "IPY_MODEL_f8c954eae78f4fc9a0c3ea4dfb9856fa",
            "placeholder": "​",
            "style": "IPY_MODEL_525b7eef45044e0c85b5bd703dac0956",
            "value": "https://mail.google.com/mail/\n"
          }
        },
        "f8c954eae78f4fc9a0c3ea4dfb9856fa": {
          "model_module": "@jupyter-widgets/base",
          "model_name": "LayoutModel",
          "model_module_version": "1.2.0",
          "state": {
            "_model_module": "@jupyter-widgets/base",
            "_model_module_version": "1.2.0",
            "_model_name": "LayoutModel",
            "_view_count": null,
            "_view_module": "@jupyter-widgets/base",
            "_view_module_version": "1.2.0",
            "_view_name": "LayoutView",
            "align_content": null,
            "align_items": null,
            "align_self": null,
            "border": null,
            "bottom": null,
            "display": null,
            "flex": null,
            "flex_flow": null,
            "grid_area": null,
            "grid_auto_columns": null,
            "grid_auto_flow": null,
            "grid_auto_rows": null,
            "grid_column": null,
            "grid_gap": null,
            "grid_row": null,
            "grid_template_areas": null,
            "grid_template_columns": null,
            "grid_template_rows": null,
            "height": null,
            "justify_content": null,
            "justify_items": null,
            "left": null,
            "margin": null,
            "max_height": null,
            "max_width": null,
            "min_height": null,
            "min_width": null,
            "object_fit": null,
            "object_position": null,
            "order": null,
            "overflow": null,
            "overflow_x": null,
            "overflow_y": null,
            "padding": null,
            "right": null,
            "top": null,
            "visibility": null,
            "width": null
          }
        },
        "525b7eef45044e0c85b5bd703dac0956": {
          "model_module": "@jupyter-widgets/controls",
          "model_name": "DescriptionStyleModel",
          "model_module_version": "1.5.0",
          "state": {
            "_model_module": "@jupyter-widgets/controls",
            "_model_module_version": "1.5.0",
            "_model_name": "DescriptionStyleModel",
            "_view_count": null,
            "_view_module": "@jupyter-widgets/base",
            "_view_module_version": "1.2.0",
            "_view_name": "StyleView",
            "description_width": ""
          }
        },
        "b0b813571f3e4782af00ab8be6467f14": {
          "model_module": "@jupyter-widgets/controls",
          "model_name": "TextModel",
          "model_module_version": "1.5.0",
          "state": {
            "_dom_classes": [],
            "_model_module": "@jupyter-widgets/controls",
            "_model_module_version": "1.5.0",
            "_model_name": "TextModel",
            "_view_count": null,
            "_view_module": "@jupyter-widgets/controls",
            "_view_module_version": "1.5.0",
            "_view_name": "TextView",
            "continuous_update": true,
            "description": "Favorite show:",
            "description_tooltip": null,
            "disabled": false,
            "layout": "IPY_MODEL_322f27a0fc4945a28fa2ac16fadf2857",
            "placeholder": "​",
            "style": "IPY_MODEL_f4eaee3061d6461cbd5f26cf0cbc47d4",
            "value": "13132323213"
          }
        },
        "322f27a0fc4945a28fa2ac16fadf2857": {
          "model_module": "@jupyter-widgets/base",
          "model_name": "LayoutModel",
          "model_module_version": "1.2.0",
          "state": {
            "_model_module": "@jupyter-widgets/base",
            "_model_module_version": "1.2.0",
            "_model_name": "LayoutModel",
            "_view_count": null,
            "_view_module": "@jupyter-widgets/base",
            "_view_module_version": "1.2.0",
            "_view_name": "LayoutView",
            "align_content": null,
            "align_items": null,
            "align_self": null,
            "border": null,
            "bottom": null,
            "display": null,
            "flex": null,
            "flex_flow": null,
            "grid_area": null,
            "grid_auto_columns": null,
            "grid_auto_flow": null,
            "grid_auto_rows": null,
            "grid_column": null,
            "grid_gap": null,
            "grid_row": null,
            "grid_template_areas": null,
            "grid_template_columns": null,
            "grid_template_rows": null,
            "height": null,
            "justify_content": null,
            "justify_items": null,
            "left": null,
            "margin": null,
            "max_height": null,
            "max_width": null,
            "min_height": null,
            "min_width": null,
            "object_fit": null,
            "object_position": null,
            "order": null,
            "overflow": null,
            "overflow_x": null,
            "overflow_y": null,
            "padding": null,
            "right": null,
            "top": null,
            "visibility": null,
            "width": null
          }
        },
        "f4eaee3061d6461cbd5f26cf0cbc47d4": {
          "model_module": "@jupyter-widgets/controls",
          "model_name": "DescriptionStyleModel",
          "model_module_version": "1.5.0",
          "state": {
            "_model_module": "@jupyter-widgets/controls",
            "_model_module_version": "1.5.0",
            "_model_name": "DescriptionStyleModel",
            "_view_count": null,
            "_view_module": "@jupyter-widgets/base",
            "_view_module_version": "1.2.0",
            "_view_name": "StyleView",
            "description_width": ""
          }
        },
        "a5a5c1423d5a4fb8bcf728369c6d936b": {
          "model_module": "@jupyter-widgets/controls",
          "model_name": "ButtonModel",
          "model_module_version": "1.5.0",
          "state": {
            "_dom_classes": [],
            "_model_module": "@jupyter-widgets/controls",
            "_model_module_version": "1.5.0",
            "_model_name": "ButtonModel",
            "_view_count": null,
            "_view_module": "@jupyter-widgets/controls",
            "_view_module_version": "1.5.0",
            "_view_name": "ButtonView",
            "button_style": "success",
            "description": "Update student",
            "disabled": false,
            "icon": "check",
            "layout": "IPY_MODEL_d138c678105942ae9e6df0115f9e3557",
            "style": "IPY_MODEL_baa6ff6059324965bde7468540b19f2d",
            "tooltip": "Click me"
          }
        },
        "d138c678105942ae9e6df0115f9e3557": {
          "model_module": "@jupyter-widgets/base",
          "model_name": "LayoutModel",
          "model_module_version": "1.2.0",
          "state": {
            "_model_module": "@jupyter-widgets/base",
            "_model_module_version": "1.2.0",
            "_model_name": "LayoutModel",
            "_view_count": null,
            "_view_module": "@jupyter-widgets/base",
            "_view_module_version": "1.2.0",
            "_view_name": "LayoutView",
            "align_content": null,
            "align_items": null,
            "align_self": null,
            "border": null,
            "bottom": null,
            "display": null,
            "flex": null,
            "flex_flow": null,
            "grid_area": null,
            "grid_auto_columns": null,
            "grid_auto_flow": null,
            "grid_auto_rows": null,
            "grid_column": null,
            "grid_gap": null,
            "grid_row": null,
            "grid_template_areas": null,
            "grid_template_columns": null,
            "grid_template_rows": null,
            "height": null,
            "justify_content": null,
            "justify_items": null,
            "left": null,
            "margin": null,
            "max_height": null,
            "max_width": null,
            "min_height": null,
            "min_width": null,
            "object_fit": null,
            "object_position": null,
            "order": null,
            "overflow": null,
            "overflow_x": null,
            "overflow_y": null,
            "padding": null,
            "right": null,
            "top": null,
            "visibility": null,
            "width": null
          }
        },
        "baa6ff6059324965bde7468540b19f2d": {
          "model_module": "@jupyter-widgets/controls",
          "model_name": "ButtonStyleModel",
          "model_module_version": "1.5.0",
          "state": {
            "_model_module": "@jupyter-widgets/controls",
            "_model_module_version": "1.5.0",
            "_model_name": "ButtonStyleModel",
            "_view_count": null,
            "_view_module": "@jupyter-widgets/base",
            "_view_module_version": "1.2.0",
            "_view_name": "StyleView",
            "button_color": null,
            "font_weight": ""
          }
        }
      }
    }
  },
  "cells": [
    {
      "cell_type": "markdown",
      "metadata": {
        "id": "view-in-github",
        "colab_type": "text"
      },
      "source": [
        "<a href=\"https://colab.research.google.com/github/PoiZeX/test/blob/main/ex2Form.ipynb\" target=\"_parent\"><img src=\"https://colab.research.google.com/assets/colab-badge.svg\" alt=\"Open In Colab\"/></a>"
      ]
    },
    {
      "cell_type": "code",
      "execution_count": 119,
      "metadata": {
        "colab": {
          "base_uri": "https://localhost:8080/"
        },
        "id": "Lb4QZiHe5kCe",
        "outputId": "15d1ef38-e53a-470a-85ba-389d5469f675"
      },
      "outputs": [
        {
          "output_type": "stream",
          "name": "stdout",
          "text": [
            "Lidor Ankava, 205818958, lidor.ankava@e.braude.ac.il, a b c d e f, https://www.maccabi-haifa.com/\n",
            "Michal Ginat, 208111146, michal.ginat@e.braude.ac.il, a b c d e f, https://www.netflix.com/browse\n",
            "Gal Polak, 208638015 , gal.polak@e.braude.ac.il, b d e f, https://mail.google.com/mail/\n",
            "Sharom Mor, 207470329, sharom.mor@e.braude.ac.il, a b c d e, https://presents.htzone.co.il/\n",
            "Yuval Badihi, 206850612, yuval.badihi@e.braude.ac.il, b d e f, https://moodle22.braude.ac.il/\n"
          ]
        }
      ],
      "source": [
        "contentToWriteCuzImLazy = \"Lidor Ankava, 205818958, lidor.ankava@e.braude.ac.il, a b c d e f, https://www.maccabi-haifa.com/\"\n",
        "contentToWriteCuzImLazy += \"\\nMichal Ginat, 208111146, michal.ginat@e.braude.ac.il, a b c d e f, https://www.netflix.com/browse\"\n",
        "contentToWriteCuzImLazy += \"\\nGal Polak, 208638015 , gal.polak@e.braude.ac.il, b d e f, https://mail.google.com/mail/\"\n",
        "contentToWriteCuzImLazy += \"\\nSharom Mor, 207470329, sharom.mor@e.braude.ac.il, a b c d e, https://presents.htzone.co.il/\"\n",
        "contentToWriteCuzImLazy += \"\\nYuval Badihi, 206850612, yuval.badihi@e.braude.ac.il, b d e f, https://moodle22.braude.ac.il/\"\n",
        "\n",
        "print(contentToWriteCuzImLazy)"
      ]
    },
    {
      "cell_type": "code",
      "source": [
        "# initialize\n",
        "from google.colab import drive\n",
        "drive.mount('/content/drive')\n",
        "%cd /content/drive/MyDrive\n",
        "filePath = 'students.txt';\n",
        "\n"
      ],
      "metadata": {
        "colab": {
          "base_uri": "https://localhost:8080/"
        },
        "id": "vgIF1OA268az",
        "outputId": "e9fb9bc2-c658-4cba-9fd4-c3568a4a5c20"
      },
      "execution_count": 120,
      "outputs": [
        {
          "output_type": "stream",
          "name": "stdout",
          "text": [
            "Drive already mounted at /content/drive; to attempt to forcibly remount, call drive.mount(\"/content/drive\", force_remount=True).\n",
            "/content/drive/MyDrive\n"
          ]
        }
      ]
    },
    {
      "cell_type": "code",
      "source": [
        "# create the file (just one time)\n",
        "with open(filePath, 'w') as file: \n",
        "  file.write(contentToWriteCuzImLazy) \n",
        "file.close()\n"
      ],
      "metadata": {
        "id": "HVReXsHZ8Lhw"
      },
      "execution_count": 121,
      "outputs": []
    },
    {
      "cell_type": "markdown",
      "source": [
        "# The code"
      ],
      "metadata": {
        "id": "JtiWU5oTg0NR"
      }
    },
    {
      "cell_type": "code",
      "source": [
        "# Read each line\n",
        "with open(filePath, 'r') as file:\n",
        "  contents = file.readlines()\n",
        "  print(contents)\n",
        "file.close()\n",
        "\n",
        "lst = []\n",
        "for line in contents:\n",
        "    lst.append(line.split(\", \"))\n",
        "\n",
        "for line in lst:\n",
        "  print(line)\n",
        "\n"
      ],
      "metadata": {
        "colab": {
          "base_uri": "https://localhost:8080/"
        },
        "id": "qA9aTo1QhcAV",
        "outputId": "975e2420-779d-482d-918a-37a8df7bdb6e"
      },
      "execution_count": 122,
      "outputs": [
        {
          "output_type": "stream",
          "name": "stdout",
          "text": [
            "['Lidor Ankava, 205818958, lidor.ankava@e.braude.ac.il, a b c d e f, https://www.maccabi-haifa.com/\\n', 'Michal Ginat, 208111146, michal.ginat@e.braude.ac.il, a b c d e f, https://www.netflix.com/browse\\n', 'Gal Polak, 208638015 , gal.polak@e.braude.ac.il, b d e f, https://mail.google.com/mail/\\n', 'Sharom Mor, 207470329, sharom.mor@e.braude.ac.il, a b c d e, https://presents.htzone.co.il/\\n', 'Yuval Badihi, 206850612, yuval.badihi@e.braude.ac.il, b d e f, https://moodle22.braude.ac.il/']\n",
            "['Lidor Ankava', '205818958', 'lidor.ankava@e.braude.ac.il', 'a b c d e f', 'https://www.maccabi-haifa.com/\\n']\n",
            "['Michal Ginat', '208111146', 'michal.ginat@e.braude.ac.il', 'a b c d e f', 'https://www.netflix.com/browse\\n']\n",
            "['Gal Polak', '208638015 ', 'gal.polak@e.braude.ac.il', 'b d e f', 'https://mail.google.com/mail/\\n']\n",
            "['Sharom Mor', '207470329', 'sharom.mor@e.braude.ac.il', 'a b c d e', 'https://presents.htzone.co.il/\\n']\n",
            "['Yuval Badihi', '206850612', 'yuval.badihi@e.braude.ac.il', 'b d e f', 'https://moodle22.braude.ac.il/']\n"
          ]
        }
      ]
    },
    {
      "cell_type": "code",
      "source": [
        "\n",
        "\n",
        "import ipywidgets as widgets\n",
        "from IPython.display import display\n",
        "\n",
        "students = []\n",
        "currentStudentIndex = 0\n",
        "\n",
        "def on_change(change):\n",
        "    if change['type'] == 'change' and change['name'] == 'value':\n",
        "        setupStudentToForm(change['new']-1) # initialize the selected student\n",
        "\n",
        "def setupStudentToForm(studentIndex):\n",
        "      global currentStudentIndex\n",
        "      currentStudentIndex = studentIndex\n",
        "      print(currentStudentIndex)\n",
        "      txt_id.value = lst[studentIndex][1]\n",
        "      txt_mail.value = lst[studentIndex][2]\n",
        "      txt_courses.value = lst[studentIndex][3]\n",
        "      txt_link.value = lst[studentIndex][4]\n",
        "      #print(lst[studentIndex])\n",
        "\n",
        "for i in range(len(lst)):\n",
        "  students.append((lst[i][0], i+1))\n",
        "\n",
        "## initialize Form\n",
        "cb_students = widgets.Dropdown(\n",
        "    options=students,\n",
        "    description='Student:',\n",
        "    disabled=False,\n",
        ")\n",
        "\n",
        "txt_id = widgets.Text(\n",
        "    description='ID:',\n",
        "        disabled=True,\n",
        ")\n",
        "\n",
        "txt_mail = widgets.Text(\n",
        "    description='Mail:',\n",
        "        disabled=True,\n",
        ")\n",
        "\n",
        "txt_courses = widgets.Text(\n",
        "    description='Courses:',\n",
        "        disabled=True,\n",
        ")\n",
        "\n",
        "txt_link = widgets.Text(\n",
        "    description='Link:',\n",
        "        disabled=True,\n",
        ")\n",
        "\n",
        "txt_favShow = widgets.Text(\n",
        "    description='Favorite show:',\n",
        ")\n",
        "#setup the first student info\n",
        "setupStudentToForm(currentStudentIndex) \n",
        "cb_students.observe(on_change)\n",
        "\n",
        "def on_button_clicked(b):\n",
        "\n",
        "  \n",
        "  # Display the message within the output widget.\n",
        "    with open(filePath, 'a') as file: \n",
        "      studentInfo = lst[currentStudentIndex]\n",
        "      str_to_write = \"\"\n",
        "      for i in range(len(studentInfo)):\n",
        "          str_to_write += studentInfo[i] + \", \"\n",
        "      str_to_write += txt_favShow.value\n",
        "      file.write(\"\\n\"+str_to_write) \n",
        "\n",
        "button =  widgets.Button(\n",
        "    description='Update student',\n",
        "    disabled=False,\n",
        "    button_style='success', # 'success', 'info', 'warning', 'danger' or ''\n",
        "    tooltip='Click me',\n",
        "    icon='check'\n",
        ")\n",
        "button.on_click(on_button_clicked)\n",
        "\n",
        "\n",
        "output = widgets.Output()\n",
        "elements = [cb_students, txt_id, txt_mail, txt_courses, txt_link, txt_favShow, button]\n",
        "for element in elements:\n",
        "  display(element, output)\n"
      ],
      "metadata": {
        "colab": {
          "base_uri": "https://localhost:8080/",
          "height": 266,
          "referenced_widgets": [
            "ba66ce94dc414004b808b9b1f7457656",
            "456c650fc115402eb8db4c7de0b679bc",
            "cdd09a8ee4954cc49b725b45c84d6646",
            "e555634c7e814652819bf324ee9b27f9",
            "cff09d13a7634b19ab97f068a85d65b6",
            "a1e7abb9921041299a8f1c24cf9a2359",
            "ed8fed3c6c964713b142bef74761aef6",
            "3ce5be7b27bf4aa0b588e2b1ac3ec8e3",
            "482522c4d4d1499f98805f8583396f80",
            "62db3ce3c0764f3895805acf073d2f97",
            "20f91cc54fe04ab4ac1f78f15c9e84dc",
            "6626c039d96247548beb3ed70eae050c",
            "542380f87622479d912c9630a11391ab",
            "dbedef174f444a9996c5c4574a9d5b47",
            "10ef585d8e19409e87f61e2cc0e25e4a",
            "f8c954eae78f4fc9a0c3ea4dfb9856fa",
            "525b7eef45044e0c85b5bd703dac0956",
            "b0b813571f3e4782af00ab8be6467f14",
            "322f27a0fc4945a28fa2ac16fadf2857",
            "f4eaee3061d6461cbd5f26cf0cbc47d4",
            "a5a5c1423d5a4fb8bcf728369c6d936b",
            "d138c678105942ae9e6df0115f9e3557",
            "baa6ff6059324965bde7468540b19f2d"
          ]
        },
        "id": "q6joX6Fhh6u9",
        "outputId": "cba496dd-feb1-44d0-8bac-8e49e833e779"
      },
      "execution_count": 123,
      "outputs": [
        {
          "output_type": "stream",
          "name": "stdout",
          "text": [
            "0\n"
          ]
        },
        {
          "output_type": "display_data",
          "data": {
            "text/plain": [
              "Dropdown(description='Student:', options=(('Lidor Ankava', 1), ('Michal Ginat', 2), ('Gal Polak', 3), ('Sharom…"
            ],
            "application/vnd.jupyter.widget-view+json": {
              "version_major": 2,
              "version_minor": 0,
              "model_id": "ba66ce94dc414004b808b9b1f7457656"
            }
          },
          "metadata": {}
        },
        {
          "output_type": "display_data",
          "data": {
            "text/plain": [
              "Output()"
            ],
            "application/vnd.jupyter.widget-view+json": {
              "version_major": 2,
              "version_minor": 0,
              "model_id": "e555634c7e814652819bf324ee9b27f9"
            }
          },
          "metadata": {}
        },
        {
          "output_type": "display_data",
          "data": {
            "text/plain": [
              "Text(value='205818958', description='ID:', disabled=True)"
            ],
            "application/vnd.jupyter.widget-view+json": {
              "version_major": 2,
              "version_minor": 0,
              "model_id": "a1e7abb9921041299a8f1c24cf9a2359"
            }
          },
          "metadata": {}
        },
        {
          "output_type": "display_data",
          "data": {
            "text/plain": [
              "Output()"
            ],
            "application/vnd.jupyter.widget-view+json": {
              "version_major": 2,
              "version_minor": 0,
              "model_id": "e555634c7e814652819bf324ee9b27f9"
            }
          },
          "metadata": {}
        },
        {
          "output_type": "display_data",
          "data": {
            "text/plain": [
              "Text(value='lidor.ankava@e.braude.ac.il', description='Mail:', disabled=True)"
            ],
            "application/vnd.jupyter.widget-view+json": {
              "version_major": 2,
              "version_minor": 0,
              "model_id": "482522c4d4d1499f98805f8583396f80"
            }
          },
          "metadata": {}
        },
        {
          "output_type": "display_data",
          "data": {
            "text/plain": [
              "Output()"
            ],
            "application/vnd.jupyter.widget-view+json": {
              "version_major": 2,
              "version_minor": 0,
              "model_id": "e555634c7e814652819bf324ee9b27f9"
            }
          },
          "metadata": {}
        },
        {
          "output_type": "display_data",
          "data": {
            "text/plain": [
              "Text(value='a b c d e f', description='Courses:', disabled=True)"
            ],
            "application/vnd.jupyter.widget-view+json": {
              "version_major": 2,
              "version_minor": 0,
              "model_id": "6626c039d96247548beb3ed70eae050c"
            }
          },
          "metadata": {}
        },
        {
          "output_type": "display_data",
          "data": {
            "text/plain": [
              "Output()"
            ],
            "application/vnd.jupyter.widget-view+json": {
              "version_major": 2,
              "version_minor": 0,
              "model_id": "e555634c7e814652819bf324ee9b27f9"
            }
          },
          "metadata": {}
        },
        {
          "output_type": "display_data",
          "data": {
            "text/plain": [
              "Text(value='https://www.maccabi-haifa.com/\\n', description='Link:', disabled=True)"
            ],
            "application/vnd.jupyter.widget-view+json": {
              "version_major": 2,
              "version_minor": 0,
              "model_id": "10ef585d8e19409e87f61e2cc0e25e4a"
            }
          },
          "metadata": {}
        },
        {
          "output_type": "display_data",
          "data": {
            "text/plain": [
              "Output()"
            ],
            "application/vnd.jupyter.widget-view+json": {
              "version_major": 2,
              "version_minor": 0,
              "model_id": "e555634c7e814652819bf324ee9b27f9"
            }
          },
          "metadata": {}
        },
        {
          "output_type": "display_data",
          "data": {
            "text/plain": [
              "Text(value='', description='Favorite show:')"
            ],
            "application/vnd.jupyter.widget-view+json": {
              "version_major": 2,
              "version_minor": 0,
              "model_id": "b0b813571f3e4782af00ab8be6467f14"
            }
          },
          "metadata": {}
        },
        {
          "output_type": "display_data",
          "data": {
            "text/plain": [
              "Output()"
            ],
            "application/vnd.jupyter.widget-view+json": {
              "version_major": 2,
              "version_minor": 0,
              "model_id": "e555634c7e814652819bf324ee9b27f9"
            }
          },
          "metadata": {}
        },
        {
          "output_type": "display_data",
          "data": {
            "text/plain": [
              "Button(button_style='success', description='Update student', icon='check', style=ButtonStyle(), tooltip='Click…"
            ],
            "application/vnd.jupyter.widget-view+json": {
              "version_major": 2,
              "version_minor": 0,
              "model_id": "a5a5c1423d5a4fb8bcf728369c6d936b"
            }
          },
          "metadata": {}
        },
        {
          "output_type": "display_data",
          "data": {
            "text/plain": [
              "Output()"
            ],
            "application/vnd.jupyter.widget-view+json": {
              "version_major": 2,
              "version_minor": 0,
              "model_id": "e555634c7e814652819bf324ee9b27f9"
            }
          },
          "metadata": {}
        },
        {
          "output_type": "stream",
          "name": "stdout",
          "text": [
            "2\n"
          ]
        }
      ]
    }
  ]
}
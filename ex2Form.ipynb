{
  "nbformat": 4,
  "nbformat_minor": 0,
  "metadata": {
    "colab": {
      "provenance": [],
      "authorship_tag": "ABX9TyPN6ab/JVTqNo0Td4JGbqbB",
      "include_colab_link": true
    },
    "kernelspec": {
      "name": "python3",
      "display_name": "Python 3"
    },
    "language_info": {
      "name": "python"
    },
    "widgets": {
      "application/vnd.jupyter.widget-state+json": {
        "5c44a39e17bd4d04a9e91e951143c052": {
          "model_module": "@jupyter-widgets/controls",
          "model_name": "VBoxModel",
          "model_module_version": "1.5.0",
          "state": {
            "_dom_classes": [],
            "_model_module": "@jupyter-widgets/controls",
            "_model_module_version": "1.5.0",
            "_model_name": "VBoxModel",
            "_view_count": null,
            "_view_module": "@jupyter-widgets/controls",
            "_view_module_version": "1.5.0",
            "_view_name": "VBoxView",
            "box_style": "",
            "children": [
              "IPY_MODEL_9607535b388644b69e29946a9f7abd18",
              "IPY_MODEL_da04d29fda894d98a48333f51ac80857",
              "IPY_MODEL_e680dd2b903f47f8a93d66d7f3d7b18a",
              "IPY_MODEL_c103da3ed845406da2ec35b9d8f0b4ee",
              "IPY_MODEL_d3f1c0859c4f423eb1d5d403f57967e6",
              "IPY_MODEL_6afd2defa4264d2890df53cf4937c46d",
              "IPY_MODEL_616a0fa8529748c3a3a03d51455cdf62"
            ],
            "layout": "IPY_MODEL_1ea79aabb4134c079eac8e5b6a501993"
          }
        },
        "9607535b388644b69e29946a9f7abd18": {
          "model_module": "@jupyter-widgets/controls",
          "model_name": "DropdownModel",
          "model_module_version": "1.5.0",
          "state": {
            "_dom_classes": [],
            "_model_module": "@jupyter-widgets/controls",
            "_model_module_version": "1.5.0",
            "_model_name": "DropdownModel",
            "_options_labels": [
              "Lidor Ankava",
              "Michal Ginat",
              "Gal Polak",
              "Sharom Mor",
              "Yuval Badihi",
              "Lidor Ankava",
              "Michal Ginat",
              "Lidor Ankava"
            ],
            "_view_count": null,
            "_view_module": "@jupyter-widgets/controls",
            "_view_module_version": "1.5.0",
            "_view_name": "DropdownView",
            "description": "Student:",
            "description_tooltip": null,
            "disabled": false,
            "index": 3,
            "layout": "IPY_MODEL_4149a4081b3442b184d1904615786eb5",
            "style": "IPY_MODEL_ef42382adb664c4a8f0a459c7cc3c593"
          }
        },
        "da04d29fda894d98a48333f51ac80857": {
          "model_module": "@jupyter-widgets/controls",
          "model_name": "TextModel",
          "model_module_version": "1.5.0",
          "state": {
            "_dom_classes": [],
            "_model_module": "@jupyter-widgets/controls",
            "_model_module_version": "1.5.0",
            "_model_name": "TextModel",
            "_view_count": null,
            "_view_module": "@jupyter-widgets/controls",
            "_view_module_version": "1.5.0",
            "_view_name": "TextView",
            "continuous_update": true,
            "description": "ID:",
            "description_tooltip": null,
            "disabled": true,
            "layout": "IPY_MODEL_06778867ef2a405d93449a308aaaf81d",
            "placeholder": "​",
            "style": "IPY_MODEL_44b7bc2984434443a5f463b650892c0c",
            "value": "207470329"
          }
        },
        "e680dd2b903f47f8a93d66d7f3d7b18a": {
          "model_module": "@jupyter-widgets/controls",
          "model_name": "TextModel",
          "model_module_version": "1.5.0",
          "state": {
            "_dom_classes": [],
            "_model_module": "@jupyter-widgets/controls",
            "_model_module_version": "1.5.0",
            "_model_name": "TextModel",
            "_view_count": null,
            "_view_module": "@jupyter-widgets/controls",
            "_view_module_version": "1.5.0",
            "_view_name": "TextView",
            "continuous_update": true,
            "description": "Mail:",
            "description_tooltip": null,
            "disabled": true,
            "layout": "IPY_MODEL_bc4a96e33da643fb86084aaa9e15dae6",
            "placeholder": "​",
            "style": "IPY_MODEL_82f7e0be7d8b44d696edd611f90d8d1b",
            "value": "sharom.mor@e.braude.ac.il"
          }
        },
        "c103da3ed845406da2ec35b9d8f0b4ee": {
          "model_module": "@jupyter-widgets/controls",
          "model_name": "TextModel",
          "model_module_version": "1.5.0",
          "state": {
            "_dom_classes": [],
            "_model_module": "@jupyter-widgets/controls",
            "_model_module_version": "1.5.0",
            "_model_name": "TextModel",
            "_view_count": null,
            "_view_module": "@jupyter-widgets/controls",
            "_view_module_version": "1.5.0",
            "_view_name": "TextView",
            "continuous_update": true,
            "description": "Courses:",
            "description_tooltip": null,
            "disabled": true,
            "layout": "IPY_MODEL_413b9006e5b14ae6891aee6c4a773941",
            "placeholder": "​",
            "style": "IPY_MODEL_baf3ad6ca0bd4b2ebad610acbd4a1a24",
            "value": "a b c d e"
          }
        },
        "d3f1c0859c4f423eb1d5d403f57967e6": {
          "model_module": "@jupyter-widgets/controls",
          "model_name": "TextModel",
          "model_module_version": "1.5.0",
          "state": {
            "_dom_classes": [],
            "_model_module": "@jupyter-widgets/controls",
            "_model_module_version": "1.5.0",
            "_model_name": "TextModel",
            "_view_count": null,
            "_view_module": "@jupyter-widgets/controls",
            "_view_module_version": "1.5.0",
            "_view_name": "TextView",
            "continuous_update": true,
            "description": "Link:",
            "description_tooltip": null,
            "disabled": true,
            "layout": "IPY_MODEL_7c4e3236d1564543ba07e7bc9219972c",
            "placeholder": "​",
            "style": "IPY_MODEL_672b1408302f4e68b63e64b555e386b8",
            "value": "https://presents.htzone.co.il/\n"
          }
        },
        "6afd2defa4264d2890df53cf4937c46d": {
          "model_module": "@jupyter-widgets/controls",
          "model_name": "TextModel",
          "model_module_version": "1.5.0",
          "state": {
            "_dom_classes": [],
            "_model_module": "@jupyter-widgets/controls",
            "_model_module_version": "1.5.0",
            "_model_name": "TextModel",
            "_view_count": null,
            "_view_module": "@jupyter-widgets/controls",
            "_view_module_version": "1.5.0",
            "_view_name": "TextView",
            "continuous_update": true,
            "description": "Favorite show:",
            "description_tooltip": null,
            "disabled": false,
            "layout": "IPY_MODEL_d85f145be80d423c9899336a7b6640ce",
            "placeholder": "​",
            "style": "IPY_MODEL_e49ed6df86854250928ab1a490112957",
            "value": ""
          }
        },
        "616a0fa8529748c3a3a03d51455cdf62": {
          "model_module": "@jupyter-widgets/controls",
          "model_name": "ButtonModel",
          "model_module_version": "1.5.0",
          "state": {
            "_dom_classes": [],
            "_model_module": "@jupyter-widgets/controls",
            "_model_module_version": "1.5.0",
            "_model_name": "ButtonModel",
            "_view_count": null,
            "_view_module": "@jupyter-widgets/controls",
            "_view_module_version": "1.5.0",
            "_view_name": "ButtonView",
            "button_style": "success",
            "description": "Update student",
            "disabled": false,
            "icon": "check",
            "layout": "IPY_MODEL_3c6f59fcbf9e4a06a941c03eb57d1f34",
            "style": "IPY_MODEL_850a8622eb9b4f61be4fd3ff0d59571d",
            "tooltip": ""
          }
        },
        "1ea79aabb4134c079eac8e5b6a501993": {
          "model_module": "@jupyter-widgets/base",
          "model_name": "LayoutModel",
          "model_module_version": "1.2.0",
          "state": {
            "_model_module": "@jupyter-widgets/base",
            "_model_module_version": "1.2.0",
            "_model_name": "LayoutModel",
            "_view_count": null,
            "_view_module": "@jupyter-widgets/base",
            "_view_module_version": "1.2.0",
            "_view_name": "LayoutView",
            "align_content": null,
            "align_items": null,
            "align_self": null,
            "border": null,
            "bottom": null,
            "display": null,
            "flex": null,
            "flex_flow": null,
            "grid_area": null,
            "grid_auto_columns": null,
            "grid_auto_flow": null,
            "grid_auto_rows": null,
            "grid_column": null,
            "grid_gap": null,
            "grid_row": null,
            "grid_template_areas": null,
            "grid_template_columns": null,
            "grid_template_rows": null,
            "height": null,
            "justify_content": null,
            "justify_items": null,
            "left": null,
            "margin": null,
            "max_height": null,
            "max_width": null,
            "min_height": null,
            "min_width": null,
            "object_fit": null,
            "object_position": null,
            "order": null,
            "overflow": null,
            "overflow_x": null,
            "overflow_y": null,
            "padding": null,
            "right": null,
            "top": null,
            "visibility": null,
            "width": null
          }
        },
        "4149a4081b3442b184d1904615786eb5": {
          "model_module": "@jupyter-widgets/base",
          "model_name": "LayoutModel",
          "model_module_version": "1.2.0",
          "state": {
            "_model_module": "@jupyter-widgets/base",
            "_model_module_version": "1.2.0",
            "_model_name": "LayoutModel",
            "_view_count": null,
            "_view_module": "@jupyter-widgets/base",
            "_view_module_version": "1.2.0",
            "_view_name": "LayoutView",
            "align_content": null,
            "align_items": null,
            "align_self": null,
            "border": null,
            "bottom": null,
            "display": null,
            "flex": null,
            "flex_flow": null,
            "grid_area": null,
            "grid_auto_columns": null,
            "grid_auto_flow": null,
            "grid_auto_rows": null,
            "grid_column": null,
            "grid_gap": null,
            "grid_row": null,
            "grid_template_areas": null,
            "grid_template_columns": null,
            "grid_template_rows": null,
            "height": null,
            "justify_content": null,
            "justify_items": null,
            "left": null,
            "margin": null,
            "max_height": null,
            "max_width": null,
            "min_height": null,
            "min_width": null,
            "object_fit": null,
            "object_position": null,
            "order": null,
            "overflow": null,
            "overflow_x": null,
            "overflow_y": null,
            "padding": null,
            "right": null,
            "top": null,
            "visibility": null,
            "width": null
          }
        },
        "ef42382adb664c4a8f0a459c7cc3c593": {
          "model_module": "@jupyter-widgets/controls",
          "model_name": "DescriptionStyleModel",
          "model_module_version": "1.5.0",
          "state": {
            "_model_module": "@jupyter-widgets/controls",
            "_model_module_version": "1.5.0",
            "_model_name": "DescriptionStyleModel",
            "_view_count": null,
            "_view_module": "@jupyter-widgets/base",
            "_view_module_version": "1.2.0",
            "_view_name": "StyleView",
            "description_width": "120px"
          }
        },
        "06778867ef2a405d93449a308aaaf81d": {
          "model_module": "@jupyter-widgets/base",
          "model_name": "LayoutModel",
          "model_module_version": "1.2.0",
          "state": {
            "_model_module": "@jupyter-widgets/base",
            "_model_module_version": "1.2.0",
            "_model_name": "LayoutModel",
            "_view_count": null,
            "_view_module": "@jupyter-widgets/base",
            "_view_module_version": "1.2.0",
            "_view_name": "LayoutView",
            "align_content": null,
            "align_items": null,
            "align_self": null,
            "border": null,
            "bottom": null,
            "display": null,
            "flex": null,
            "flex_flow": null,
            "grid_area": null,
            "grid_auto_columns": null,
            "grid_auto_flow": null,
            "grid_auto_rows": null,
            "grid_column": null,
            "grid_gap": null,
            "grid_row": null,
            "grid_template_areas": null,
            "grid_template_columns": null,
            "grid_template_rows": null,
            "height": null,
            "justify_content": null,
            "justify_items": null,
            "left": null,
            "margin": null,
            "max_height": null,
            "max_width": null,
            "min_height": null,
            "min_width": null,
            "object_fit": null,
            "object_position": null,
            "order": null,
            "overflow": null,
            "overflow_x": null,
            "overflow_y": null,
            "padding": null,
            "right": null,
            "top": null,
            "visibility": null,
            "width": null
          }
        },
        "44b7bc2984434443a5f463b650892c0c": {
          "model_module": "@jupyter-widgets/controls",
          "model_name": "DescriptionStyleModel",
          "model_module_version": "1.5.0",
          "state": {
            "_model_module": "@jupyter-widgets/controls",
            "_model_module_version": "1.5.0",
            "_model_name": "DescriptionStyleModel",
            "_view_count": null,
            "_view_module": "@jupyter-widgets/base",
            "_view_module_version": "1.2.0",
            "_view_name": "StyleView",
            "description_width": "120px"
          }
        },
        "bc4a96e33da643fb86084aaa9e15dae6": {
          "model_module": "@jupyter-widgets/base",
          "model_name": "LayoutModel",
          "model_module_version": "1.2.0",
          "state": {
            "_model_module": "@jupyter-widgets/base",
            "_model_module_version": "1.2.0",
            "_model_name": "LayoutModel",
            "_view_count": null,
            "_view_module": "@jupyter-widgets/base",
            "_view_module_version": "1.2.0",
            "_view_name": "LayoutView",
            "align_content": null,
            "align_items": null,
            "align_self": null,
            "border": null,
            "bottom": null,
            "display": null,
            "flex": null,
            "flex_flow": null,
            "grid_area": null,
            "grid_auto_columns": null,
            "grid_auto_flow": null,
            "grid_auto_rows": null,
            "grid_column": null,
            "grid_gap": null,
            "grid_row": null,
            "grid_template_areas": null,
            "grid_template_columns": null,
            "grid_template_rows": null,
            "height": null,
            "justify_content": null,
            "justify_items": null,
            "left": null,
            "margin": null,
            "max_height": null,
            "max_width": null,
            "min_height": null,
            "min_width": null,
            "object_fit": null,
            "object_position": null,
            "order": null,
            "overflow": null,
            "overflow_x": null,
            "overflow_y": null,
            "padding": null,
            "right": null,
            "top": null,
            "visibility": null,
            "width": null
          }
        },
        "82f7e0be7d8b44d696edd611f90d8d1b": {
          "model_module": "@jupyter-widgets/controls",
          "model_name": "DescriptionStyleModel",
          "model_module_version": "1.5.0",
          "state": {
            "_model_module": "@jupyter-widgets/controls",
            "_model_module_version": "1.5.0",
            "_model_name": "DescriptionStyleModel",
            "_view_count": null,
            "_view_module": "@jupyter-widgets/base",
            "_view_module_version": "1.2.0",
            "_view_name": "StyleView",
            "description_width": "120px"
          }
        },
        "413b9006e5b14ae6891aee6c4a773941": {
          "model_module": "@jupyter-widgets/base",
          "model_name": "LayoutModel",
          "model_module_version": "1.2.0",
          "state": {
            "_model_module": "@jupyter-widgets/base",
            "_model_module_version": "1.2.0",
            "_model_name": "LayoutModel",
            "_view_count": null,
            "_view_module": "@jupyter-widgets/base",
            "_view_module_version": "1.2.0",
            "_view_name": "LayoutView",
            "align_content": null,
            "align_items": null,
            "align_self": null,
            "border": null,
            "bottom": null,
            "display": null,
            "flex": null,
            "flex_flow": null,
            "grid_area": null,
            "grid_auto_columns": null,
            "grid_auto_flow": null,
            "grid_auto_rows": null,
            "grid_column": null,
            "grid_gap": null,
            "grid_row": null,
            "grid_template_areas": null,
            "grid_template_columns": null,
            "grid_template_rows": null,
            "height": null,
            "justify_content": null,
            "justify_items": null,
            "left": null,
            "margin": null,
            "max_height": null,
            "max_width": null,
            "min_height": null,
            "min_width": null,
            "object_fit": null,
            "object_position": null,
            "order": null,
            "overflow": null,
            "overflow_x": null,
            "overflow_y": null,
            "padding": null,
            "right": null,
            "top": null,
            "visibility": null,
            "width": null
          }
        },
        "baf3ad6ca0bd4b2ebad610acbd4a1a24": {
          "model_module": "@jupyter-widgets/controls",
          "model_name": "DescriptionStyleModel",
          "model_module_version": "1.5.0",
          "state": {
            "_model_module": "@jupyter-widgets/controls",
            "_model_module_version": "1.5.0",
            "_model_name": "DescriptionStyleModel",
            "_view_count": null,
            "_view_module": "@jupyter-widgets/base",
            "_view_module_version": "1.2.0",
            "_view_name": "StyleView",
            "description_width": "120px"
          }
        },
        "7c4e3236d1564543ba07e7bc9219972c": {
          "model_module": "@jupyter-widgets/base",
          "model_name": "LayoutModel",
          "model_module_version": "1.2.0",
          "state": {
            "_model_module": "@jupyter-widgets/base",
            "_model_module_version": "1.2.0",
            "_model_name": "LayoutModel",
            "_view_count": null,
            "_view_module": "@jupyter-widgets/base",
            "_view_module_version": "1.2.0",
            "_view_name": "LayoutView",
            "align_content": null,
            "align_items": null,
            "align_self": null,
            "border": null,
            "bottom": null,
            "display": null,
            "flex": null,
            "flex_flow": null,
            "grid_area": null,
            "grid_auto_columns": null,
            "grid_auto_flow": null,
            "grid_auto_rows": null,
            "grid_column": null,
            "grid_gap": null,
            "grid_row": null,
            "grid_template_areas": null,
            "grid_template_columns": null,
            "grid_template_rows": null,
            "height": null,
            "justify_content": null,
            "justify_items": null,
            "left": null,
            "margin": null,
            "max_height": null,
            "max_width": null,
            "min_height": null,
            "min_width": null,
            "object_fit": null,
            "object_position": null,
            "order": null,
            "overflow": null,
            "overflow_x": null,
            "overflow_y": null,
            "padding": null,
            "right": null,
            "top": null,
            "visibility": null,
            "width": null
          }
        },
        "672b1408302f4e68b63e64b555e386b8": {
          "model_module": "@jupyter-widgets/controls",
          "model_name": "DescriptionStyleModel",
          "model_module_version": "1.5.0",
          "state": {
            "_model_module": "@jupyter-widgets/controls",
            "_model_module_version": "1.5.0",
            "_model_name": "DescriptionStyleModel",
            "_view_count": null,
            "_view_module": "@jupyter-widgets/base",
            "_view_module_version": "1.2.0",
            "_view_name": "StyleView",
            "description_width": "120px"
          }
        },
        "d85f145be80d423c9899336a7b6640ce": {
          "model_module": "@jupyter-widgets/base",
          "model_name": "LayoutModel",
          "model_module_version": "1.2.0",
          "state": {
            "_model_module": "@jupyter-widgets/base",
            "_model_module_version": "1.2.0",
            "_model_name": "LayoutModel",
            "_view_count": null,
            "_view_module": "@jupyter-widgets/base",
            "_view_module_version": "1.2.0",
            "_view_name": "LayoutView",
            "align_content": null,
            "align_items": null,
            "align_self": null,
            "border": null,
            "bottom": null,
            "display": null,
            "flex": null,
            "flex_flow": null,
            "grid_area": null,
            "grid_auto_columns": null,
            "grid_auto_flow": null,
            "grid_auto_rows": null,
            "grid_column": null,
            "grid_gap": null,
            "grid_row": null,
            "grid_template_areas": null,
            "grid_template_columns": null,
            "grid_template_rows": null,
            "height": null,
            "justify_content": null,
            "justify_items": null,
            "left": null,
            "margin": null,
            "max_height": null,
            "max_width": null,
            "min_height": null,
            "min_width": null,
            "object_fit": null,
            "object_position": null,
            "order": null,
            "overflow": null,
            "overflow_x": null,
            "overflow_y": null,
            "padding": null,
            "right": null,
            "top": null,
            "visibility": null,
            "width": null
          }
        },
        "e49ed6df86854250928ab1a490112957": {
          "model_module": "@jupyter-widgets/controls",
          "model_name": "DescriptionStyleModel",
          "model_module_version": "1.5.0",
          "state": {
            "_model_module": "@jupyter-widgets/controls",
            "_model_module_version": "1.5.0",
            "_model_name": "DescriptionStyleModel",
            "_view_count": null,
            "_view_module": "@jupyter-widgets/base",
            "_view_module_version": "1.2.0",
            "_view_name": "StyleView",
            "description_width": "120px"
          }
        },
        "3c6f59fcbf9e4a06a941c03eb57d1f34": {
          "model_module": "@jupyter-widgets/base",
          "model_name": "LayoutModel",
          "model_module_version": "1.2.0",
          "state": {
            "_model_module": "@jupyter-widgets/base",
            "_model_module_version": "1.2.0",
            "_model_name": "LayoutModel",
            "_view_count": null,
            "_view_module": "@jupyter-widgets/base",
            "_view_module_version": "1.2.0",
            "_view_name": "LayoutView",
            "align_content": null,
            "align_items": null,
            "align_self": null,
            "border": null,
            "bottom": null,
            "display": null,
            "flex": null,
            "flex_flow": null,
            "grid_area": null,
            "grid_auto_columns": null,
            "grid_auto_flow": null,
            "grid_auto_rows": null,
            "grid_column": null,
            "grid_gap": null,
            "grid_row": null,
            "grid_template_areas": null,
            "grid_template_columns": null,
            "grid_template_rows": null,
            "height": null,
            "justify_content": null,
            "justify_items": null,
            "left": null,
            "margin": "20px 0px 0px 140px",
            "max_height": null,
            "max_width": null,
            "min_height": null,
            "min_width": null,
            "object_fit": null,
            "object_position": null,
            "order": null,
            "overflow": null,
            "overflow_x": null,
            "overflow_y": null,
            "padding": null,
            "right": null,
            "top": null,
            "visibility": null,
            "width": null
          }
        },
        "850a8622eb9b4f61be4fd3ff0d59571d": {
          "model_module": "@jupyter-widgets/controls",
          "model_name": "ButtonStyleModel",
          "model_module_version": "1.5.0",
          "state": {
            "_model_module": "@jupyter-widgets/controls",
            "_model_module_version": "1.5.0",
            "_model_name": "ButtonStyleModel",
            "_view_count": null,
            "_view_module": "@jupyter-widgets/base",
            "_view_module_version": "1.2.0",
            "_view_name": "StyleView",
            "button_color": null,
            "font_weight": ""
          }
        },
        "e7cf2977f1c94f30b1be6210e6b06e2a": {
          "model_module": "@jupyter-widgets/output",
          "model_name": "OutputModel",
          "model_module_version": "1.0.0",
          "state": {
            "_dom_classes": [],
            "_model_module": "@jupyter-widgets/output",
            "_model_module_version": "1.0.0",
            "_model_name": "OutputModel",
            "_view_count": null,
            "_view_module": "@jupyter-widgets/output",
            "_view_module_version": "1.0.0",
            "_view_name": "OutputView",
            "layout": "IPY_MODEL_4516d541c7784ff998ff9a69f9bce88f",
            "msg_id": "",
            "outputs": []
          }
        },
        "4516d541c7784ff998ff9a69f9bce88f": {
          "model_module": "@jupyter-widgets/base",
          "model_name": "LayoutModel",
          "model_module_version": "1.2.0",
          "state": {
            "_model_module": "@jupyter-widgets/base",
            "_model_module_version": "1.2.0",
            "_model_name": "LayoutModel",
            "_view_count": null,
            "_view_module": "@jupyter-widgets/base",
            "_view_module_version": "1.2.0",
            "_view_name": "LayoutView",
            "align_content": null,
            "align_items": null,
            "align_self": null,
            "border": null,
            "bottom": null,
            "display": null,
            "flex": null,
            "flex_flow": null,
            "grid_area": null,
            "grid_auto_columns": null,
            "grid_auto_flow": null,
            "grid_auto_rows": null,
            "grid_column": null,
            "grid_gap": null,
            "grid_row": null,
            "grid_template_areas": null,
            "grid_template_columns": null,
            "grid_template_rows": null,
            "height": null,
            "justify_content": null,
            "justify_items": null,
            "left": null,
            "margin": null,
            "max_height": null,
            "max_width": null,
            "min_height": null,
            "min_width": null,
            "object_fit": null,
            "object_position": null,
            "order": null,
            "overflow": null,
            "overflow_x": null,
            "overflow_y": null,
            "padding": null,
            "right": null,
            "top": null,
            "visibility": null,
            "width": null
          }
        }
      }
    }
  },
  "cells": [
    {
      "cell_type": "markdown",
      "metadata": {
        "id": "view-in-github",
        "colab_type": "text"
      },
      "source": [
        "<a href=\"https://colab.research.google.com/github/PoiZeX/CloudCourse/blob/main/ex2Form.ipynb\" target=\"_parent\"><img src=\"https://colab.research.google.com/assets/colab-badge.svg\" alt=\"Open In Colab\"/></a>"
      ]
    },
    {
      "cell_type": "code",
      "execution_count": null,
      "metadata": {
        "colab": {
          "base_uri": "https://localhost:8080/"
        },
        "id": "Lb4QZiHe5kCe",
        "outputId": "6d96ca2b-7421-45b3-d0b2-faf032a29595"
      },
      "outputs": [
        {
          "output_type": "stream",
          "name": "stdout",
          "text": [
            "Lidor Ankava, 205818958, lidor.ankava@e.braude.ac.il, a b c d e f, https://www.maccabi-haifa.com/\n",
            "Michal Ginat, 208111146, michal.ginat@e.braude.ac.il, a b c d e f, https://www.netflix.com/browse\n",
            "Gal Polak, 208638015 , gal.polak@e.braude.ac.il, b d e f, https://mail.google.com/mail/\n",
            "Sharom Mor, 207470329, sharom.mor@e.braude.ac.il, a b c d e, https://presents.htzone.co.il/\n",
            "Yuval Badihi, 206850612, yuval.badihi@e.braude.ac.il, b d e f, https://moodle22.braude.ac.il/\n"
          ]
        }
      ],
      "source": [
        "contentToWriteCuzImLazy = \"Lidor Ankava, 205818958, lidor.ankava@e.braude.ac.il, a b c d e f, https://www.maccabi-haifa.com/\"\n",
        "contentToWriteCuzImLazy += \"\\nMichal Ginat, 208111146, michal.ginat@e.braude.ac.il, a b c d e f, https://www.netflix.com/browse\"\n",
        "contentToWriteCuzImLazy += \"\\nGal Polak, 208638015 , gal.polak@e.braude.ac.il, b d e f, https://mail.google.com/mail/\"\n",
        "contentToWriteCuzImLazy += \"\\nSharom Mor, 207470329, sharom.mor@e.braude.ac.il, a b c d e, https://presents.htzone.co.il/\"\n",
        "contentToWriteCuzImLazy += \"\\nYuval Badihi, 206850612, yuval.badihi@e.braude.ac.il, b d e f, https://moodle22.braude.ac.il/\"\n",
        "\n",
        "print(contentToWriteCuzImLazy)"
      ]
    },
    {
      "cell_type": "code",
      "source": [
        "# initialize\n",
        "from google.colab import drive\n",
        "drive.mount('/content/drive')\n",
        "%cd /content/drive/MyDrive\n",
        "filePath = 'students.txt';\n",
        "\n"
      ],
      "metadata": {
        "colab": {
          "base_uri": "https://localhost:8080/"
        },
        "id": "vgIF1OA268az",
        "outputId": "052b0e72-e16e-4f29-9da9-6338ac5fa4ff"
      },
      "execution_count": 28,
      "outputs": [
        {
          "output_type": "stream",
          "name": "stdout",
          "text": [
            "Drive already mounted at /content/drive; to attempt to forcibly remount, call drive.mount(\"/content/drive\", force_remount=True).\n",
            "/content/drive/MyDrive\n"
          ]
        }
      ]
    },
    {
      "cell_type": "code",
      "source": [
        "###\n",
        "### create the file (just one time)\n",
        "###\n",
        "#with open(filePath, 'w') as file: \n",
        "#  file.write(contentToWriteCuzImLazy) \n",
        "#file.close()\n"
      ],
      "metadata": {
        "id": "HVReXsHZ8Lhw"
      },
      "execution_count": null,
      "outputs": []
    },
    {
      "cell_type": "markdown",
      "source": [
        "# The code"
      ],
      "metadata": {
        "id": "JtiWU5oTg0NR"
      }
    },
    {
      "cell_type": "code",
      "source": [
        "import ipywidgets as widgets\n",
        "from ipywidgets import Layout, VBox\n",
        "import IPython\n",
        "from IPython.core.display import display_html\n",
        "from typing import Text\n",
        "from ipywidgets import widgets\n",
        "from IPython.display import HTML\n",
        "from google.colab.output import _publish as publish\n",
        "from IPython.display import display\n",
        "\n",
        "lst = []\n",
        "students = []\n",
        "currentStudentIndex = 0"
      ],
      "metadata": {
        "id": "GPGAoN6IsTvS"
      },
      "execution_count": 29,
      "outputs": []
    },
    {
      "cell_type": "code",
      "source": [
        "# Read each line\n",
        "def readContentToLst():\n",
        "  global lst, students\n",
        "  lst.clear()\n",
        "  students.clear()\n",
        "  with open(filePath, 'r') as file:\n",
        "    contents = file.readlines()\n",
        "  file.close()\n",
        "\n",
        "  for line in contents:\n",
        "      lst.append(line.split(\", \"))\n",
        "\n",
        "  for line in lst:\n",
        "    print(line)\n",
        "\n",
        "  for i in range(len(lst)):\n",
        "    students.append((lst[i][0], i+1))\n",
        "readContentToLst()"
      ],
      "metadata": {
        "colab": {
          "base_uri": "https://localhost:8080/"
        },
        "id": "qA9aTo1QhcAV",
        "outputId": "89e49143-3d9f-4203-cd03-517fff7b1be8"
      },
      "execution_count": 30,
      "outputs": [
        {
          "output_type": "stream",
          "name": "stdout",
          "text": [
            "['Lidor Ankava', '205818958', 'lidor.ankava@e.braude.ac.il', 'a b c d e f', 'https://www.maccabi-haifa.com/\\n']\n",
            "['Michal Ginat', '208111146', 'michal.ginat@e.braude.ac.il', 'a b c d e f', 'https://www.netflix.com/browse\\n']\n",
            "['Gal Polak', '208638015 ', 'gal.polak@e.braude.ac.il', 'b d e f', 'https://mail.google.com/mail/\\n']\n",
            "['Sharom Mor', '207470329', 'sharom.mor@e.braude.ac.il', 'a b c d e', 'https://presents.htzone.co.il/\\n']\n",
            "['Yuval Badihi', '206850612', 'yuval.badihi@e.braude.ac.il', 'b d e f', 'https://moodle22.braude.ac.il/\\n']\n",
            "['Lidor Ankava', '205818958', 'lidor.ankava@e.braude.ac.il', 'a b c d e f', 'https://www.maccabi-haifa.com/', 'Bilbi\\n']\n",
            "['Michal Ginat', '208111146', 'michal.ginat@e.braude.ac.il', 'a b c d e f', 'https://www.netflix.com/browse', 'All shows\\n']\n",
            "['Lidor Ankava', '205818958', 'lidor.ankava@e.braude.ac.il', 'a b c d e f', 'https://www.maccabi-haifa.com/', 'Friends']\n"
          ]
        }
      ]
    },
    {
      "cell_type": "code",
      "source": [
        "## Define Fields\n",
        "style = {'description_width': '120px'} \n",
        "cb_students = widgets.Dropdown(\n",
        "    options=students,\n",
        "    description='Student:',\n",
        "    disabled=False,\n",
        "    style=style,\n",
        ")\n",
        "\n",
        "txt_id = widgets.Text(\n",
        "    description='ID:',\n",
        "    disabled=True,\n",
        "    style=style,\n",
        "\n",
        ")\n",
        "\n",
        "txt_mail = widgets.Text(\n",
        "    description='Mail:',\n",
        "    disabled=True,\n",
        "    style=style,\n",
        ")\n",
        "\n",
        "txt_courses = widgets.Text(\n",
        "    description='Courses:',\n",
        "    disabled=True,\n",
        "    style=style,\n",
        ")\n",
        "\n",
        "txt_link = widgets.Text(\n",
        "    description='Link:',\n",
        "    disabled=True,\n",
        "    style=style,\n",
        "\n",
        ")\n",
        "\n",
        "txt_favShow = widgets.Text(\n",
        "    description='Favorite show:',\n",
        "    style=style,\n",
        "   # layout = Layout(width='50%', height='80px', padding='10px')\n",
        ")\n",
        "\n",
        "button = widgets.Button(\n",
        "    description='Update student',\n",
        "    disabled=False,\n",
        "    button_style='success', \n",
        "    layout=Layout(margin=\"20px 0px 0px 140px\"),\n",
        "    icon='check'\n",
        ")\n",
        "\n"
      ],
      "metadata": {
        "id": "lvLXbY_nsRBD"
      },
      "execution_count": 31,
      "outputs": []
    },
    {
      "cell_type": "code",
      "source": [
        "##### Behavior\n",
        "\n",
        "def on_change(change):\n",
        "    if change['type'] == 'change' and change['name'] == 'value':\n",
        "        setupStudentToForm(change['new']-1) # initialize the selected student\n",
        "\n",
        "def setupStudentToForm(studentIndex):\n",
        "      global currentStudentIndex\n",
        "      currentStudentIndex = studentIndex\n",
        "      txt_id.value = lst[studentIndex][1]\n",
        "      txt_mail.value = lst[studentIndex][2]\n",
        "      txt_courses.value = lst[studentIndex][3]\n",
        "      txt_link.value = lst[studentIndex][4]\n",
        "      if len(lst[studentIndex]) == 6:\n",
        "        txt_favShow.value = lst[studentIndex][5]\n",
        "      #print(lst[studentIndex])\n",
        "\n",
        "def on_button_clicked(b):\n",
        "  # Display the message within the output widget.\n",
        "    with open(filePath, 'a') as file: \n",
        "      studentInfo = lst[currentStudentIndex]\n",
        "      studentInfo.append(txt_favShow.value)\n",
        "      str_to_write =', '.join(str(e).strip() for e in studentInfo)\n",
        "      file.write(\"\\n\"+str_to_write)\n",
        "      print(\"Success\")\n",
        "      readContentToLst() # refresh\n",
        "\n",
        "###\n",
        "button.on_click(on_button_clicked)\n",
        "cb_students.observe(on_change)"
      ],
      "metadata": {
        "id": "blxn5eKgs3cs"
      },
      "execution_count": 32,
      "outputs": []
    },
    {
      "cell_type": "code",
      "source": [
        "# Main code\n",
        "#setup the first student info\n",
        "setupStudentToForm(currentStudentIndex) \n",
        "publish.css(\" body {background-color: #77e1fc; display:flex; justify-content:center; \"+\n",
        "            \"dropdown {background-color: #ffffff;  }\")\n",
        "\n",
        "output = widgets.Output()\n",
        "elements = [VBox([cb_students, txt_id, txt_mail, txt_courses, txt_link, txt_favShow, button])]\n",
        "for element in elements:\n",
        "  display(element, output)\n",
        "display(output)"
      ],
      "metadata": {
        "colab": {
          "base_uri": "https://localhost:8080/",
          "height": 257,
          "referenced_widgets": [
            "5c44a39e17bd4d04a9e91e951143c052",
            "9607535b388644b69e29946a9f7abd18",
            "da04d29fda894d98a48333f51ac80857",
            "e680dd2b903f47f8a93d66d7f3d7b18a",
            "c103da3ed845406da2ec35b9d8f0b4ee",
            "d3f1c0859c4f423eb1d5d403f57967e6",
            "6afd2defa4264d2890df53cf4937c46d",
            "616a0fa8529748c3a3a03d51455cdf62",
            "1ea79aabb4134c079eac8e5b6a501993",
            "4149a4081b3442b184d1904615786eb5",
            "ef42382adb664c4a8f0a459c7cc3c593",
            "06778867ef2a405d93449a308aaaf81d",
            "44b7bc2984434443a5f463b650892c0c",
            "bc4a96e33da643fb86084aaa9e15dae6",
            "82f7e0be7d8b44d696edd611f90d8d1b",
            "413b9006e5b14ae6891aee6c4a773941",
            "baf3ad6ca0bd4b2ebad610acbd4a1a24",
            "7c4e3236d1564543ba07e7bc9219972c",
            "672b1408302f4e68b63e64b555e386b8",
            "d85f145be80d423c9899336a7b6640ce",
            "e49ed6df86854250928ab1a490112957",
            "3c6f59fcbf9e4a06a941c03eb57d1f34",
            "850a8622eb9b4f61be4fd3ff0d59571d",
            "e7cf2977f1c94f30b1be6210e6b06e2a",
            "4516d541c7784ff998ff9a69f9bce88f"
          ]
        },
        "id": "q6joX6Fhh6u9",
        "outputId": "19349315-5a7e-43ee-c08c-e83cf2d501f5"
      },
      "execution_count": 63,
      "outputs": [
        {
          "output_type": "display_data",
          "data": {
            "text/plain": [
              "<IPython.core.display.HTML object>"
            ],
            "text/html": [
              "<style> body {background-color: #77e1fc; display:flex; justify-content:center; dropdown {background-color: #ffffff;  }</style>"
            ]
          },
          "metadata": {}
        },
        {
          "output_type": "display_data",
          "data": {
            "text/plain": [
              "VBox(children=(Dropdown(description='Student:', options=(('Lidor Ankava', 1), ('Michal Ginat', 2), ('Gal Polak…"
            ],
            "application/vnd.jupyter.widget-view+json": {
              "version_major": 2,
              "version_minor": 0,
              "model_id": "5c44a39e17bd4d04a9e91e951143c052"
            }
          },
          "metadata": {}
        },
        {
          "output_type": "display_data",
          "data": {
            "text/plain": [
              "Output()"
            ],
            "application/vnd.jupyter.widget-view+json": {
              "version_major": 2,
              "version_minor": 0,
              "model_id": "e7cf2977f1c94f30b1be6210e6b06e2a"
            }
          },
          "metadata": {}
        },
        {
          "output_type": "display_data",
          "data": {
            "text/plain": [
              "Output()"
            ],
            "application/vnd.jupyter.widget-view+json": {
              "version_major": 2,
              "version_minor": 0,
              "model_id": "e7cf2977f1c94f30b1be6210e6b06e2a"
            }
          },
          "metadata": {}
        }
      ]
    }
  ]
}
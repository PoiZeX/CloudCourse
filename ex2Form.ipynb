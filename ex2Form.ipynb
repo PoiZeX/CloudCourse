{
  "nbformat": 4,
  "nbformat_minor": 0,
  "metadata": {
    "colab": {
      "provenance": [],
      "authorship_tag": "ABX9TyONksTRgV0gkkMb3rSin/ek",
      "include_colab_link": true
    },
    "kernelspec": {
      "name": "python3",
      "display_name": "Python 3"
    },
    "language_info": {
      "name": "python"
    },
    "widgets": {
      "application/vnd.jupyter.widget-state+json": {
        "1429eb30c7264a0884ae5262968690a9": {
          "model_module": "@jupyter-widgets/controls",
          "model_name": "DropdownModel",
          "model_module_version": "1.5.0",
          "state": {
            "_dom_classes": [],
            "_model_module": "@jupyter-widgets/controls",
            "_model_module_version": "1.5.0",
            "_model_name": "DropdownModel",
            "_options_labels": [
              "Lidor Ankava",
              "Michal Ginat",
              "Gal Polak",
              "Sharom Mor",
              "Yuval Badihi",
              "Lidor Ankava",
              "Michal Ginat"
            ],
            "_view_count": null,
            "_view_module": "@jupyter-widgets/controls",
            "_view_module_version": "1.5.0",
            "_view_name": "DropdownView",
            "description": "Student:",
            "description_tooltip": null,
            "disabled": false,
            "index": 0,
            "layout": "IPY_MODEL_913a856bf94842a3b52b16b2e8f6143b",
            "style": "IPY_MODEL_9c0e05d00ad24884b13d858d878ec717"
          }
        },
        "913a856bf94842a3b52b16b2e8f6143b": {
          "model_module": "@jupyter-widgets/base",
          "model_name": "LayoutModel",
          "model_module_version": "1.2.0",
          "state": {
            "_model_module": "@jupyter-widgets/base",
            "_model_module_version": "1.2.0",
            "_model_name": "LayoutModel",
            "_view_count": null,
            "_view_module": "@jupyter-widgets/base",
            "_view_module_version": "1.2.0",
            "_view_name": "LayoutView",
            "align_content": null,
            "align_items": null,
            "align_self": null,
            "border": null,
            "bottom": null,
            "display": null,
            "flex": null,
            "flex_flow": null,
            "grid_area": null,
            "grid_auto_columns": null,
            "grid_auto_flow": null,
            "grid_auto_rows": null,
            "grid_column": null,
            "grid_gap": null,
            "grid_row": null,
            "grid_template_areas": null,
            "grid_template_columns": null,
            "grid_template_rows": null,
            "height": null,
            "justify_content": null,
            "justify_items": null,
            "left": null,
            "margin": null,
            "max_height": null,
            "max_width": null,
            "min_height": null,
            "min_width": null,
            "object_fit": null,
            "object_position": null,
            "order": null,
            "overflow": null,
            "overflow_x": null,
            "overflow_y": null,
            "padding": null,
            "right": null,
            "top": null,
            "visibility": null,
            "width": null
          }
        },
        "9c0e05d00ad24884b13d858d878ec717": {
          "model_module": "@jupyter-widgets/controls",
          "model_name": "DescriptionStyleModel",
          "model_module_version": "1.5.0",
          "state": {
            "_model_module": "@jupyter-widgets/controls",
            "_model_module_version": "1.5.0",
            "_model_name": "DescriptionStyleModel",
            "_view_count": null,
            "_view_module": "@jupyter-widgets/base",
            "_view_module_version": "1.2.0",
            "_view_name": "StyleView",
            "description_width": ""
          }
        },
        "375168b75f544021972f86e4509e722b": {
          "model_module": "@jupyter-widgets/output",
          "model_name": "OutputModel",
          "model_module_version": "1.0.0",
          "state": {
            "_dom_classes": [],
            "_model_module": "@jupyter-widgets/output",
            "_model_module_version": "1.0.0",
            "_model_name": "OutputModel",
            "_view_count": null,
            "_view_module": "@jupyter-widgets/output",
            "_view_module_version": "1.0.0",
            "_view_name": "OutputView",
            "layout": "IPY_MODEL_6a435f0cdd044d5da629e86fcb70389f",
            "msg_id": "",
            "outputs": []
          }
        },
        "6a435f0cdd044d5da629e86fcb70389f": {
          "model_module": "@jupyter-widgets/base",
          "model_name": "LayoutModel",
          "model_module_version": "1.2.0",
          "state": {
            "_model_module": "@jupyter-widgets/base",
            "_model_module_version": "1.2.0",
            "_model_name": "LayoutModel",
            "_view_count": null,
            "_view_module": "@jupyter-widgets/base",
            "_view_module_version": "1.2.0",
            "_view_name": "LayoutView",
            "align_content": null,
            "align_items": null,
            "align_self": null,
            "border": null,
            "bottom": null,
            "display": null,
            "flex": null,
            "flex_flow": null,
            "grid_area": null,
            "grid_auto_columns": null,
            "grid_auto_flow": null,
            "grid_auto_rows": null,
            "grid_column": null,
            "grid_gap": null,
            "grid_row": null,
            "grid_template_areas": null,
            "grid_template_columns": null,
            "grid_template_rows": null,
            "height": null,
            "justify_content": null,
            "justify_items": null,
            "left": null,
            "margin": null,
            "max_height": null,
            "max_width": null,
            "min_height": null,
            "min_width": null,
            "object_fit": null,
            "object_position": null,
            "order": null,
            "overflow": null,
            "overflow_x": null,
            "overflow_y": null,
            "padding": null,
            "right": null,
            "top": null,
            "visibility": null,
            "width": null
          }
        },
        "861e80b6b65c49adaf51169f045dbc58": {
          "model_module": "@jupyter-widgets/controls",
          "model_name": "TextModel",
          "model_module_version": "1.5.0",
          "state": {
            "_dom_classes": [],
            "_model_module": "@jupyter-widgets/controls",
            "_model_module_version": "1.5.0",
            "_model_name": "TextModel",
            "_view_count": null,
            "_view_module": "@jupyter-widgets/controls",
            "_view_module_version": "1.5.0",
            "_view_name": "TextView",
            "continuous_update": true,
            "description": "ID:",
            "description_tooltip": null,
            "disabled": true,
            "layout": "IPY_MODEL_217672d3ad7f410fb8a73c526b143def",
            "placeholder": "​",
            "style": "IPY_MODEL_949e76790fb54b25a7cdf73178c6d9db",
            "value": "205818958"
          }
        },
        "217672d3ad7f410fb8a73c526b143def": {
          "model_module": "@jupyter-widgets/base",
          "model_name": "LayoutModel",
          "model_module_version": "1.2.0",
          "state": {
            "_model_module": "@jupyter-widgets/base",
            "_model_module_version": "1.2.0",
            "_model_name": "LayoutModel",
            "_view_count": null,
            "_view_module": "@jupyter-widgets/base",
            "_view_module_version": "1.2.0",
            "_view_name": "LayoutView",
            "align_content": null,
            "align_items": null,
            "align_self": null,
            "border": null,
            "bottom": null,
            "display": null,
            "flex": null,
            "flex_flow": null,
            "grid_area": null,
            "grid_auto_columns": null,
            "grid_auto_flow": null,
            "grid_auto_rows": null,
            "grid_column": null,
            "grid_gap": null,
            "grid_row": null,
            "grid_template_areas": null,
            "grid_template_columns": null,
            "grid_template_rows": null,
            "height": null,
            "justify_content": null,
            "justify_items": null,
            "left": null,
            "margin": null,
            "max_height": null,
            "max_width": null,
            "min_height": null,
            "min_width": null,
            "object_fit": null,
            "object_position": null,
            "order": null,
            "overflow": null,
            "overflow_x": null,
            "overflow_y": null,
            "padding": null,
            "right": null,
            "top": null,
            "visibility": null,
            "width": null
          }
        },
        "949e76790fb54b25a7cdf73178c6d9db": {
          "model_module": "@jupyter-widgets/controls",
          "model_name": "DescriptionStyleModel",
          "model_module_version": "1.5.0",
          "state": {
            "_model_module": "@jupyter-widgets/controls",
            "_model_module_version": "1.5.0",
            "_model_name": "DescriptionStyleModel",
            "_view_count": null,
            "_view_module": "@jupyter-widgets/base",
            "_view_module_version": "1.2.0",
            "_view_name": "StyleView",
            "description_width": ""
          }
        },
        "9067d5850c2f41a48c6b7aeb3ae118a4": {
          "model_module": "@jupyter-widgets/controls",
          "model_name": "TextModel",
          "model_module_version": "1.5.0",
          "state": {
            "_dom_classes": [],
            "_model_module": "@jupyter-widgets/controls",
            "_model_module_version": "1.5.0",
            "_model_name": "TextModel",
            "_view_count": null,
            "_view_module": "@jupyter-widgets/controls",
            "_view_module_version": "1.5.0",
            "_view_name": "TextView",
            "continuous_update": true,
            "description": "Mail:",
            "description_tooltip": null,
            "disabled": true,
            "layout": "IPY_MODEL_636eccfd70254ab79164d84a7dce57c5",
            "placeholder": "​",
            "style": "IPY_MODEL_24f85babf41743baa4d80e5b75bf5427",
            "value": "lidor.ankava@e.braude.ac.il"
          }
        },
        "636eccfd70254ab79164d84a7dce57c5": {
          "model_module": "@jupyter-widgets/base",
          "model_name": "LayoutModel",
          "model_module_version": "1.2.0",
          "state": {
            "_model_module": "@jupyter-widgets/base",
            "_model_module_version": "1.2.0",
            "_model_name": "LayoutModel",
            "_view_count": null,
            "_view_module": "@jupyter-widgets/base",
            "_view_module_version": "1.2.0",
            "_view_name": "LayoutView",
            "align_content": null,
            "align_items": null,
            "align_self": null,
            "border": null,
            "bottom": null,
            "display": null,
            "flex": null,
            "flex_flow": null,
            "grid_area": null,
            "grid_auto_columns": null,
            "grid_auto_flow": null,
            "grid_auto_rows": null,
            "grid_column": null,
            "grid_gap": null,
            "grid_row": null,
            "grid_template_areas": null,
            "grid_template_columns": null,
            "grid_template_rows": null,
            "height": null,
            "justify_content": null,
            "justify_items": null,
            "left": null,
            "margin": null,
            "max_height": null,
            "max_width": null,
            "min_height": null,
            "min_width": null,
            "object_fit": null,
            "object_position": null,
            "order": null,
            "overflow": null,
            "overflow_x": null,
            "overflow_y": null,
            "padding": null,
            "right": null,
            "top": null,
            "visibility": null,
            "width": null
          }
        },
        "24f85babf41743baa4d80e5b75bf5427": {
          "model_module": "@jupyter-widgets/controls",
          "model_name": "DescriptionStyleModel",
          "model_module_version": "1.5.0",
          "state": {
            "_model_module": "@jupyter-widgets/controls",
            "_model_module_version": "1.5.0",
            "_model_name": "DescriptionStyleModel",
            "_view_count": null,
            "_view_module": "@jupyter-widgets/base",
            "_view_module_version": "1.2.0",
            "_view_name": "StyleView",
            "description_width": ""
          }
        },
        "9b044cb56afc4f4b875e2e8b467cfa71": {
          "model_module": "@jupyter-widgets/controls",
          "model_name": "TextModel",
          "model_module_version": "1.5.0",
          "state": {
            "_dom_classes": [],
            "_model_module": "@jupyter-widgets/controls",
            "_model_module_version": "1.5.0",
            "_model_name": "TextModel",
            "_view_count": null,
            "_view_module": "@jupyter-widgets/controls",
            "_view_module_version": "1.5.0",
            "_view_name": "TextView",
            "continuous_update": true,
            "description": "Courses:",
            "description_tooltip": null,
            "disabled": true,
            "layout": "IPY_MODEL_120937fd7d364047b3ba9adbef8a6f0c",
            "placeholder": "​",
            "style": "IPY_MODEL_79385db631024080a8e1474e07559c2c",
            "value": "a b c d e f"
          }
        },
        "120937fd7d364047b3ba9adbef8a6f0c": {
          "model_module": "@jupyter-widgets/base",
          "model_name": "LayoutModel",
          "model_module_version": "1.2.0",
          "state": {
            "_model_module": "@jupyter-widgets/base",
            "_model_module_version": "1.2.0",
            "_model_name": "LayoutModel",
            "_view_count": null,
            "_view_module": "@jupyter-widgets/base",
            "_view_module_version": "1.2.0",
            "_view_name": "LayoutView",
            "align_content": null,
            "align_items": null,
            "align_self": null,
            "border": null,
            "bottom": null,
            "display": null,
            "flex": null,
            "flex_flow": null,
            "grid_area": null,
            "grid_auto_columns": null,
            "grid_auto_flow": null,
            "grid_auto_rows": null,
            "grid_column": null,
            "grid_gap": null,
            "grid_row": null,
            "grid_template_areas": null,
            "grid_template_columns": null,
            "grid_template_rows": null,
            "height": null,
            "justify_content": null,
            "justify_items": null,
            "left": null,
            "margin": null,
            "max_height": null,
            "max_width": null,
            "min_height": null,
            "min_width": null,
            "object_fit": null,
            "object_position": null,
            "order": null,
            "overflow": null,
            "overflow_x": null,
            "overflow_y": null,
            "padding": null,
            "right": null,
            "top": null,
            "visibility": null,
            "width": null
          }
        },
        "79385db631024080a8e1474e07559c2c": {
          "model_module": "@jupyter-widgets/controls",
          "model_name": "DescriptionStyleModel",
          "model_module_version": "1.5.0",
          "state": {
            "_model_module": "@jupyter-widgets/controls",
            "_model_module_version": "1.5.0",
            "_model_name": "DescriptionStyleModel",
            "_view_count": null,
            "_view_module": "@jupyter-widgets/base",
            "_view_module_version": "1.2.0",
            "_view_name": "StyleView",
            "description_width": ""
          }
        },
        "5648871e52b1466493c57c5347d345ad": {
          "model_module": "@jupyter-widgets/controls",
          "model_name": "TextModel",
          "model_module_version": "1.5.0",
          "state": {
            "_dom_classes": [],
            "_model_module": "@jupyter-widgets/controls",
            "_model_module_version": "1.5.0",
            "_model_name": "TextModel",
            "_view_count": null,
            "_view_module": "@jupyter-widgets/controls",
            "_view_module_version": "1.5.0",
            "_view_name": "TextView",
            "continuous_update": true,
            "description": "Link:",
            "description_tooltip": null,
            "disabled": true,
            "layout": "IPY_MODEL_fdf3ef6c567b4ec7893192c5e1df8caa",
            "placeholder": "​",
            "style": "IPY_MODEL_285d62e330214819a632934c85d499c2",
            "value": "https://www.maccabi-haifa.com/\n"
          }
        },
        "fdf3ef6c567b4ec7893192c5e1df8caa": {
          "model_module": "@jupyter-widgets/base",
          "model_name": "LayoutModel",
          "model_module_version": "1.2.0",
          "state": {
            "_model_module": "@jupyter-widgets/base",
            "_model_module_version": "1.2.0",
            "_model_name": "LayoutModel",
            "_view_count": null,
            "_view_module": "@jupyter-widgets/base",
            "_view_module_version": "1.2.0",
            "_view_name": "LayoutView",
            "align_content": null,
            "align_items": null,
            "align_self": null,
            "border": null,
            "bottom": null,
            "display": null,
            "flex": null,
            "flex_flow": null,
            "grid_area": null,
            "grid_auto_columns": null,
            "grid_auto_flow": null,
            "grid_auto_rows": null,
            "grid_column": null,
            "grid_gap": null,
            "grid_row": null,
            "grid_template_areas": null,
            "grid_template_columns": null,
            "grid_template_rows": null,
            "height": null,
            "justify_content": null,
            "justify_items": null,
            "left": null,
            "margin": null,
            "max_height": null,
            "max_width": null,
            "min_height": null,
            "min_width": null,
            "object_fit": null,
            "object_position": null,
            "order": null,
            "overflow": null,
            "overflow_x": null,
            "overflow_y": null,
            "padding": null,
            "right": null,
            "top": null,
            "visibility": null,
            "width": null
          }
        },
        "285d62e330214819a632934c85d499c2": {
          "model_module": "@jupyter-widgets/controls",
          "model_name": "DescriptionStyleModel",
          "model_module_version": "1.5.0",
          "state": {
            "_model_module": "@jupyter-widgets/controls",
            "_model_module_version": "1.5.0",
            "_model_name": "DescriptionStyleModel",
            "_view_count": null,
            "_view_module": "@jupyter-widgets/base",
            "_view_module_version": "1.2.0",
            "_view_name": "StyleView",
            "description_width": ""
          }
        },
        "095b75436348497bb08f7835cff8ddcf": {
          "model_module": "@jupyter-widgets/controls",
          "model_name": "TextModel",
          "model_module_version": "1.5.0",
          "state": {
            "_dom_classes": [],
            "_model_module": "@jupyter-widgets/controls",
            "_model_module_version": "1.5.0",
            "_model_name": "TextModel",
            "_view_count": null,
            "_view_module": "@jupyter-widgets/controls",
            "_view_module_version": "1.5.0",
            "_view_name": "TextView",
            "continuous_update": true,
            "description": "Fav show:",
            "description_tooltip": null,
            "disabled": false,
            "layout": "IPY_MODEL_b31b877c45ab4faa9fd4e89c3aa0845f",
            "placeholder": "​",
            "style": "IPY_MODEL_368a78667be34568a3aa63c46b9697bc",
            "value": "Friends"
          }
        },
        "b31b877c45ab4faa9fd4e89c3aa0845f": {
          "model_module": "@jupyter-widgets/base",
          "model_name": "LayoutModel",
          "model_module_version": "1.2.0",
          "state": {
            "_model_module": "@jupyter-widgets/base",
            "_model_module_version": "1.2.0",
            "_model_name": "LayoutModel",
            "_view_count": null,
            "_view_module": "@jupyter-widgets/base",
            "_view_module_version": "1.2.0",
            "_view_name": "LayoutView",
            "align_content": null,
            "align_items": null,
            "align_self": null,
            "border": null,
            "bottom": null,
            "display": null,
            "flex": null,
            "flex_flow": null,
            "grid_area": null,
            "grid_auto_columns": null,
            "grid_auto_flow": null,
            "grid_auto_rows": null,
            "grid_column": null,
            "grid_gap": null,
            "grid_row": null,
            "grid_template_areas": null,
            "grid_template_columns": null,
            "grid_template_rows": null,
            "height": null,
            "justify_content": null,
            "justify_items": null,
            "left": null,
            "margin": null,
            "max_height": null,
            "max_width": null,
            "min_height": null,
            "min_width": null,
            "object_fit": null,
            "object_position": null,
            "order": null,
            "overflow": null,
            "overflow_x": null,
            "overflow_y": null,
            "padding": null,
            "right": null,
            "top": null,
            "visibility": null,
            "width": null
          }
        },
        "368a78667be34568a3aa63c46b9697bc": {
          "model_module": "@jupyter-widgets/controls",
          "model_name": "DescriptionStyleModel",
          "model_module_version": "1.5.0",
          "state": {
            "_model_module": "@jupyter-widgets/controls",
            "_model_module_version": "1.5.0",
            "_model_name": "DescriptionStyleModel",
            "_view_count": null,
            "_view_module": "@jupyter-widgets/base",
            "_view_module_version": "1.2.0",
            "_view_name": "StyleView",
            "description_width": ""
          }
        },
        "7fe3c2a248ee482488d707ee4b59568c": {
          "model_module": "@jupyter-widgets/controls",
          "model_name": "ButtonModel",
          "model_module_version": "1.5.0",
          "state": {
            "_dom_classes": [],
            "_model_module": "@jupyter-widgets/controls",
            "_model_module_version": "1.5.0",
            "_model_name": "ButtonModel",
            "_view_count": null,
            "_view_module": "@jupyter-widgets/controls",
            "_view_module_version": "1.5.0",
            "_view_name": "ButtonView",
            "button_style": "success",
            "description": "Update student",
            "disabled": false,
            "icon": "check",
            "layout": "IPY_MODEL_cfa04f4e6bdc4b4d97e0f7ef2c638fdb",
            "style": "IPY_MODEL_3a22d647ecef4de6b241d36f6d6be2f0",
            "tooltip": ""
          }
        },
        "cfa04f4e6bdc4b4d97e0f7ef2c638fdb": {
          "model_module": "@jupyter-widgets/base",
          "model_name": "LayoutModel",
          "model_module_version": "1.2.0",
          "state": {
            "_model_module": "@jupyter-widgets/base",
            "_model_module_version": "1.2.0",
            "_model_name": "LayoutModel",
            "_view_count": null,
            "_view_module": "@jupyter-widgets/base",
            "_view_module_version": "1.2.0",
            "_view_name": "LayoutView",
            "align_content": null,
            "align_items": null,
            "align_self": null,
            "border": null,
            "bottom": null,
            "display": null,
            "flex": null,
            "flex_flow": null,
            "grid_area": null,
            "grid_auto_columns": null,
            "grid_auto_flow": null,
            "grid_auto_rows": null,
            "grid_column": null,
            "grid_gap": null,
            "grid_row": null,
            "grid_template_areas": null,
            "grid_template_columns": null,
            "grid_template_rows": null,
            "height": null,
            "justify_content": null,
            "justify_items": null,
            "left": null,
            "margin": null,
            "max_height": null,
            "max_width": null,
            "min_height": null,
            "min_width": null,
            "object_fit": null,
            "object_position": null,
            "order": null,
            "overflow": null,
            "overflow_x": null,
            "overflow_y": null,
            "padding": null,
            "right": null,
            "top": null,
            "visibility": null,
            "width": null
          }
        },
        "3a22d647ecef4de6b241d36f6d6be2f0": {
          "model_module": "@jupyter-widgets/controls",
          "model_name": "ButtonStyleModel",
          "model_module_version": "1.5.0",
          "state": {
            "_model_module": "@jupyter-widgets/controls",
            "_model_module_version": "1.5.0",
            "_model_name": "ButtonStyleModel",
            "_view_count": null,
            "_view_module": "@jupyter-widgets/base",
            "_view_module_version": "1.2.0",
            "_view_name": "StyleView",
            "button_color": null,
            "font_weight": ""
          }
        }
      }
    }
  },
  "cells": [
    {
      "cell_type": "markdown",
      "metadata": {
        "id": "view-in-github",
        "colab_type": "text"
      },
      "source": [
        "<a href=\"https://colab.research.google.com/github/PoiZeX/test/blob/main/ex2Form.ipynb\" target=\"_parent\"><img src=\"https://colab.research.google.com/assets/colab-badge.svg\" alt=\"Open In Colab\"/></a>"
      ]
    },
    {
      "cell_type": "code",
      "execution_count": 50,
      "metadata": {
        "colab": {
          "base_uri": "https://localhost:8080/"
        },
        "id": "Lb4QZiHe5kCe",
        "outputId": "6d96ca2b-7421-45b3-d0b2-faf032a29595"
      },
      "outputs": [
        {
          "output_type": "stream",
          "name": "stdout",
          "text": [
            "Lidor Ankava, 205818958, lidor.ankava@e.braude.ac.il, a b c d e f, https://www.maccabi-haifa.com/\n",
            "Michal Ginat, 208111146, michal.ginat@e.braude.ac.il, a b c d e f, https://www.netflix.com/browse\n",
            "Gal Polak, 208638015 , gal.polak@e.braude.ac.il, b d e f, https://mail.google.com/mail/\n",
            "Sharom Mor, 207470329, sharom.mor@e.braude.ac.il, a b c d e, https://presents.htzone.co.il/\n",
            "Yuval Badihi, 206850612, yuval.badihi@e.braude.ac.il, b d e f, https://moodle22.braude.ac.il/\n"
          ]
        }
      ],
      "source": [
        "contentToWriteCuzImLazy = \"Lidor Ankava, 205818958, lidor.ankava@e.braude.ac.il, a b c d e f, https://www.maccabi-haifa.com/\"\n",
        "contentToWriteCuzImLazy += \"\\nMichal Ginat, 208111146, michal.ginat@e.braude.ac.il, a b c d e f, https://www.netflix.com/browse\"\n",
        "contentToWriteCuzImLazy += \"\\nGal Polak, 208638015 , gal.polak@e.braude.ac.il, b d e f, https://mail.google.com/mail/\"\n",
        "contentToWriteCuzImLazy += \"\\nSharom Mor, 207470329, sharom.mor@e.braude.ac.il, a b c d e, https://presents.htzone.co.il/\"\n",
        "contentToWriteCuzImLazy += \"\\nYuval Badihi, 206850612, yuval.badihi@e.braude.ac.il, b d e f, https://moodle22.braude.ac.il/\"\n",
        "\n",
        "print(contentToWriteCuzImLazy)"
      ]
    },
    {
      "cell_type": "code",
      "source": [
        "# initialize\n",
        "from google.colab import drive\n",
        "drive.mount('/content/drive')\n",
        "%cd /content/drive/MyDrive\n",
        "filePath = 'students.txt';\n",
        "\n"
      ],
      "metadata": {
        "colab": {
          "base_uri": "https://localhost:8080/"
        },
        "id": "vgIF1OA268az",
        "outputId": "2f3d1719-669f-47ab-9ebb-d892448ff449"
      },
      "execution_count": 51,
      "outputs": [
        {
          "output_type": "stream",
          "name": "stdout",
          "text": [
            "Drive already mounted at /content/drive; to attempt to forcibly remount, call drive.mount(\"/content/drive\", force_remount=True).\n",
            "/content/drive/MyDrive\n"
          ]
        }
      ]
    },
    {
      "cell_type": "code",
      "source": [
        "###\n",
        "### create the file (just one time)\n",
        "###\n",
        "#with open(filePath, 'w') as file: \n",
        "#  file.write(contentToWriteCuzImLazy) \n",
        "#file.close()\n"
      ],
      "metadata": {
        "id": "HVReXsHZ8Lhw"
      },
      "execution_count": 52,
      "outputs": []
    },
    {
      "cell_type": "markdown",
      "source": [
        "# The code"
      ],
      "metadata": {
        "id": "JtiWU5oTg0NR"
      }
    },
    {
      "cell_type": "code",
      "source": [
        "import ipywidgets as widgets\n",
        "from ipywidgets import Layout\n",
        "\n",
        "from IPython.display import display\n",
        "\n",
        "lst = []\n",
        "students = []\n",
        "currentStudentIndex = 0"
      ],
      "metadata": {
        "id": "GPGAoN6IsTvS"
      },
      "execution_count": 88,
      "outputs": []
    },
    {
      "cell_type": "code",
      "source": [
        "# Read each line\n",
        "def readContentToLst():\n",
        "  global lst, students\n",
        "  lst.clear()\n",
        "  students.clear()\n",
        "  with open(filePath, 'r') as file:\n",
        "    contents = file.readlines()\n",
        "  file.close()\n",
        "\n",
        "  for line in contents:\n",
        "      lst.append(line.split(\", \"))\n",
        "\n",
        "  for line in lst:\n",
        "    print(line)\n",
        "\n",
        "  for i in range(len(lst)):\n",
        "    students.append((lst[i][0], i+1))\n",
        "readContentToLst()"
      ],
      "metadata": {
        "colab": {
          "base_uri": "https://localhost:8080/"
        },
        "id": "qA9aTo1QhcAV",
        "outputId": "06a0f0df-a757-44e0-c564-d37ee1d6c46f"
      },
      "execution_count": 90,
      "outputs": [
        {
          "output_type": "stream",
          "name": "stdout",
          "text": [
            "['Lidor Ankava', '205818958', 'lidor.ankava@e.braude.ac.il', 'a b c d e f', 'https://www.maccabi-haifa.com/\\n']\n",
            "['Michal Ginat', '208111146', 'michal.ginat@e.braude.ac.il', 'a b c d e f', 'https://www.netflix.com/browse\\n']\n",
            "['Gal Polak', '208638015 ', 'gal.polak@e.braude.ac.il', 'b d e f', 'https://mail.google.com/mail/\\n']\n",
            "['Sharom Mor', '207470329', 'sharom.mor@e.braude.ac.il', 'a b c d e', 'https://presents.htzone.co.il/\\n']\n",
            "['Yuval Badihi', '206850612', 'yuval.badihi@e.braude.ac.il', 'b d e f', 'https://moodle22.braude.ac.il/\\n']\n",
            "['Lidor Ankava', '205818958', 'lidor.ankava@e.braude.ac.il', 'a b c d e f', 'https://www.maccabi-haifa.com/', 'Bilbi\\n']\n",
            "['Michal Ginat', '208111146', 'michal.ginat@e.braude.ac.il', 'a b c d e f', 'https://www.netflix.com/browse', 'All shows']\n"
          ]
        }
      ]
    },
    {
      "cell_type": "code",
      "source": [
        "## Define Fields\n",
        "cb_students = widgets.Dropdown(\n",
        "    options=students,\n",
        "    description='Student:',\n",
        "    disabled=False,\n",
        ")\n",
        "\n",
        "txt_id = widgets.Text(\n",
        "    description='ID:',\n",
        "        disabled=True,\n",
        ")\n",
        "\n",
        "txt_mail = widgets.Text(\n",
        "    description='Mail:',\n",
        "        disabled=True,\n",
        ")\n",
        "\n",
        "txt_courses = widgets.Text(\n",
        "    description='Courses:',\n",
        "        disabled=True,\n",
        ")\n",
        "\n",
        "txt_link = widgets.Text(\n",
        "    description='Link:',\n",
        "        disabled=True,\n",
        ")\n",
        "\n",
        "txt_favShow = widgets.Text(\n",
        "    description='Fav show:',\n",
        "   # layout = Layout(width='50%', height='80px', padding='10px')\n",
        ")\n",
        "\n",
        "button = widgets.Button(\n",
        "    description='Update student',\n",
        "    disabled=False,\n",
        "    button_style='success', \n",
        "    icon='check'\n",
        ")\n",
        "\n"
      ],
      "metadata": {
        "id": "lvLXbY_nsRBD"
      },
      "execution_count": 91,
      "outputs": []
    },
    {
      "cell_type": "code",
      "source": [
        "##### Behavior\n",
        "\n",
        "def on_change(change):\n",
        "    if change['type'] == 'change' and change['name'] == 'value':\n",
        "        setupStudentToForm(change['new']-1) # initialize the selected student\n",
        "\n",
        "def setupStudentToForm(studentIndex):\n",
        "      global currentStudentIndex\n",
        "      currentStudentIndex = studentIndex\n",
        "      txt_id.value = lst[studentIndex][1]\n",
        "      txt_mail.value = lst[studentIndex][2]\n",
        "      txt_courses.value = lst[studentIndex][3]\n",
        "      txt_link.value = lst[studentIndex][4]\n",
        "      if len(lst[studentIndex]) == 6:\n",
        "        txt_favShow.value = lst[studentIndex][5]\n",
        "      #print(lst[studentIndex])\n",
        "\n",
        "def on_button_clicked(b):\n",
        "  # Display the message within the output widget.\n",
        "    with open(filePath, 'a') as file: \n",
        "      studentInfo = lst[currentStudentIndex]\n",
        "      studentInfo.append(txt_favShow.value)\n",
        "      str_to_write =', '.join(str(e).strip() for e in studentInfo)\n",
        "      file.write(\"\\n\"+str_to_write)\n",
        "      print(\"Success\")\n",
        "      readContentToLst() # refresh\n",
        "\n",
        "###\n",
        "button.on_click(on_button_clicked)\n",
        "cb_students.observe(on_change)\n"
      ],
      "metadata": {
        "id": "blxn5eKgs3cs"
      },
      "execution_count": 92,
      "outputs": []
    },
    {
      "cell_type": "code",
      "source": [
        "# Main code\n",
        "#setup the first student info\n",
        "setupStudentToForm(currentStudentIndex) \n",
        "\n",
        "output = widgets.Output()\n",
        "elements = [cb_students, txt_id, txt_mail, txt_courses, txt_link, txt_favShow, button]\n",
        "for element in elements:\n",
        "  display(element, output)\n"
      ],
      "metadata": {
        "colab": {
          "base_uri": "https://localhost:8080/",
          "height": 370,
          "referenced_widgets": [
            "1429eb30c7264a0884ae5262968690a9",
            "913a856bf94842a3b52b16b2e8f6143b",
            "9c0e05d00ad24884b13d858d878ec717",
            "375168b75f544021972f86e4509e722b",
            "6a435f0cdd044d5da629e86fcb70389f",
            "861e80b6b65c49adaf51169f045dbc58",
            "217672d3ad7f410fb8a73c526b143def",
            "949e76790fb54b25a7cdf73178c6d9db",
            "9067d5850c2f41a48c6b7aeb3ae118a4",
            "636eccfd70254ab79164d84a7dce57c5",
            "24f85babf41743baa4d80e5b75bf5427",
            "9b044cb56afc4f4b875e2e8b467cfa71",
            "120937fd7d364047b3ba9adbef8a6f0c",
            "79385db631024080a8e1474e07559c2c",
            "5648871e52b1466493c57c5347d345ad",
            "fdf3ef6c567b4ec7893192c5e1df8caa",
            "285d62e330214819a632934c85d499c2",
            "095b75436348497bb08f7835cff8ddcf",
            "b31b877c45ab4faa9fd4e89c3aa0845f",
            "368a78667be34568a3aa63c46b9697bc",
            "7fe3c2a248ee482488d707ee4b59568c",
            "cfa04f4e6bdc4b4d97e0f7ef2c638fdb",
            "3a22d647ecef4de6b241d36f6d6be2f0"
          ]
        },
        "id": "q6joX6Fhh6u9",
        "outputId": "ac53ba3f-c19d-45ae-c909-32039d438471"
      },
      "execution_count": 93,
      "outputs": [
        {
          "output_type": "display_data",
          "data": {
            "text/plain": [
              "Dropdown(description='Student:', options=(('Lidor Ankava', 1), ('Michal Ginat', 2), ('Gal Polak', 3), ('Sharom…"
            ],
            "application/vnd.jupyter.widget-view+json": {
              "version_major": 2,
              "version_minor": 0,
              "model_id": "1429eb30c7264a0884ae5262968690a9"
            }
          },
          "metadata": {}
        },
        {
          "output_type": "display_data",
          "data": {
            "text/plain": [
              "Output()"
            ],
            "application/vnd.jupyter.widget-view+json": {
              "version_major": 2,
              "version_minor": 0,
              "model_id": "375168b75f544021972f86e4509e722b"
            }
          },
          "metadata": {}
        },
        {
          "output_type": "display_data",
          "data": {
            "text/plain": [
              "Text(value='205818958', description='ID:', disabled=True)"
            ],
            "application/vnd.jupyter.widget-view+json": {
              "version_major": 2,
              "version_minor": 0,
              "model_id": "861e80b6b65c49adaf51169f045dbc58"
            }
          },
          "metadata": {}
        },
        {
          "output_type": "display_data",
          "data": {
            "text/plain": [
              "Output()"
            ],
            "application/vnd.jupyter.widget-view+json": {
              "version_major": 2,
              "version_minor": 0,
              "model_id": "375168b75f544021972f86e4509e722b"
            }
          },
          "metadata": {}
        },
        {
          "output_type": "display_data",
          "data": {
            "text/plain": [
              "Text(value='lidor.ankava@e.braude.ac.il', description='Mail:', disabled=True)"
            ],
            "application/vnd.jupyter.widget-view+json": {
              "version_major": 2,
              "version_minor": 0,
              "model_id": "9067d5850c2f41a48c6b7aeb3ae118a4"
            }
          },
          "metadata": {}
        },
        {
          "output_type": "display_data",
          "data": {
            "text/plain": [
              "Output()"
            ],
            "application/vnd.jupyter.widget-view+json": {
              "version_major": 2,
              "version_minor": 0,
              "model_id": "375168b75f544021972f86e4509e722b"
            }
          },
          "metadata": {}
        },
        {
          "output_type": "display_data",
          "data": {
            "text/plain": [
              "Text(value='a b c d e f', description='Courses:', disabled=True)"
            ],
            "application/vnd.jupyter.widget-view+json": {
              "version_major": 2,
              "version_minor": 0,
              "model_id": "9b044cb56afc4f4b875e2e8b467cfa71"
            }
          },
          "metadata": {}
        },
        {
          "output_type": "display_data",
          "data": {
            "text/plain": [
              "Output()"
            ],
            "application/vnd.jupyter.widget-view+json": {
              "version_major": 2,
              "version_minor": 0,
              "model_id": "375168b75f544021972f86e4509e722b"
            }
          },
          "metadata": {}
        },
        {
          "output_type": "display_data",
          "data": {
            "text/plain": [
              "Text(value='https://www.maccabi-haifa.com/\\n', description='Link:', disabled=True)"
            ],
            "application/vnd.jupyter.widget-view+json": {
              "version_major": 2,
              "version_minor": 0,
              "model_id": "5648871e52b1466493c57c5347d345ad"
            }
          },
          "metadata": {}
        },
        {
          "output_type": "display_data",
          "data": {
            "text/plain": [
              "Output()"
            ],
            "application/vnd.jupyter.widget-view+json": {
              "version_major": 2,
              "version_minor": 0,
              "model_id": "375168b75f544021972f86e4509e722b"
            }
          },
          "metadata": {}
        },
        {
          "output_type": "display_data",
          "data": {
            "text/plain": [
              "Text(value='', description='Fav show:')"
            ],
            "application/vnd.jupyter.widget-view+json": {
              "version_major": 2,
              "version_minor": 0,
              "model_id": "095b75436348497bb08f7835cff8ddcf"
            }
          },
          "metadata": {}
        },
        {
          "output_type": "display_data",
          "data": {
            "text/plain": [
              "Output()"
            ],
            "application/vnd.jupyter.widget-view+json": {
              "version_major": 2,
              "version_minor": 0,
              "model_id": "375168b75f544021972f86e4509e722b"
            }
          },
          "metadata": {}
        },
        {
          "output_type": "display_data",
          "data": {
            "text/plain": [
              "Button(button_style='success', description='Update student', icon='check', style=ButtonStyle())"
            ],
            "application/vnd.jupyter.widget-view+json": {
              "version_major": 2,
              "version_minor": 0,
              "model_id": "7fe3c2a248ee482488d707ee4b59568c"
            }
          },
          "metadata": {}
        },
        {
          "output_type": "display_data",
          "data": {
            "text/plain": [
              "Output()"
            ],
            "application/vnd.jupyter.widget-view+json": {
              "version_major": 2,
              "version_minor": 0,
              "model_id": "375168b75f544021972f86e4509e722b"
            }
          },
          "metadata": {}
        },
        {
          "output_type": "stream",
          "name": "stdout",
          "text": [
            "Success\n",
            "['Lidor Ankava', '205818958', 'lidor.ankava@e.braude.ac.il', 'a b c d e f', 'https://www.maccabi-haifa.com/\\n']\n",
            "['Michal Ginat', '208111146', 'michal.ginat@e.braude.ac.il', 'a b c d e f', 'https://www.netflix.com/browse\\n']\n",
            "['Gal Polak', '208638015 ', 'gal.polak@e.braude.ac.il', 'b d e f', 'https://mail.google.com/mail/\\n']\n",
            "['Sharom Mor', '207470329', 'sharom.mor@e.braude.ac.il', 'a b c d e', 'https://presents.htzone.co.il/\\n']\n",
            "['Yuval Badihi', '206850612', 'yuval.badihi@e.braude.ac.il', 'b d e f', 'https://moodle22.braude.ac.il/\\n']\n",
            "['Lidor Ankava', '205818958', 'lidor.ankava@e.braude.ac.il', 'a b c d e f', 'https://www.maccabi-haifa.com/', 'Bilbi\\n']\n",
            "['Michal Ginat', '208111146', 'michal.ginat@e.braude.ac.il', 'a b c d e f', 'https://www.netflix.com/browse', 'All shows']\n"
          ]
        }
      ]
    }
  ]
}
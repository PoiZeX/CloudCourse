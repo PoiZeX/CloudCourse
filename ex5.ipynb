{
  "nbformat": 4,
  "nbformat_minor": 0,
  "metadata": {
    "colab": {
      "provenance": [],
      "authorship_tag": "ABX9TyMkPqo/H7cZiA5+a9bUJQC+",
      "include_colab_link": true
    },
    "kernelspec": {
      "name": "python3",
      "display_name": "Python 3"
    },
    "language_info": {
      "name": "python"
    }
  },
  "cells": [
    {
      "cell_type": "markdown",
      "metadata": {
        "id": "view-in-github",
        "colab_type": "text"
      },
      "source": [
        "<a href=\"https://colab.research.google.com/github/PoiZeX/CloudCourse/blob/main/ex5.ipynb\" target=\"_parent\"><img src=\"https://colab.research.google.com/assets/colab-badge.svg\" alt=\"Open In Colab\"/></a>"
      ]
    },
    {
      "cell_type": "code",
      "source": [
        "import json\n",
        "from firebase import firebase\n",
        "strToWriteInJson = \"\"\"\n",
        "[\n",
        "    {\n",
        "        \"name\": \"Lidor Ankava\",\n",
        "        \"id\": \"205818958\",\n",
        "        \"email\": \"lidor.ankava@e.braude.ac.il\",\n",
        "        \"courses\": \"a b c d e f\",\n",
        "        \"website\": \"https://www.maccabi-haifa.com/\",\n",
        "        \"fav show\": \"Bilbi\"\n",
        "    },\n",
        "    {\n",
        "        \"name\": \"Michal Ginat\",\n",
        "        \"id\": \"208111146\",\n",
        "        \"email\": \"michal.ginat@e.braude.ac.il\",\n",
        "        \"courses\": \"a b c d e f\",\n",
        "        \"website\": \"https://www.netflix.com/browse\",\n",
        "        \"fav show\": \"All shows\"\n",
        "    },\n",
        "    {\n",
        "        \"name\": \"Gal Polak\",\n",
        "        \"id\": \"208638015 \",\n",
        "        \"email\": \"gal.polak@e.braude.ac.il\",\n",
        "        \"courses\": \"b d e f\",\n",
        "        \"website\": \"https://mail.google.com/mail/\",\n",
        "        \"fav show\": \"Dora and Boots\"\n",
        "    },\n",
        "    {\n",
        "        \"name\": \"Sharon Mor\",\n",
        "        \"id\": \"207470329\",\n",
        "        \"email\": \"sharom.mor@e.braude.ac.il\",\n",
        "        \"courses\": \"a b c d e\",\n",
        "        \"website\": \"https://presents.htzone.co.il/\",\n",
        "        \"fav show\": \"Sport 55\"\n",
        "    },\n",
        "    {\n",
        "        \"name\": \"Yuval Badihi\",\n",
        "        \"id\": \"206850612\",\n",
        "        \"email\": \"yuval.badihi@e.braude.ac.il\",\n",
        "        \"courses\": \"b d e f\",\n",
        "        \"website\": \"https://moodle22.braude.ac.il/\",\n",
        "        \"fav show\": \"Formula 1\"\n",
        "    },\n",
        "    {\n",
        "        \"name\": \"Tali Munchink\",\n",
        "        \"id\": \"205471204\",\n",
        "        \"email\": \"Tali.munchink@e.braude.ac.il\",\n",
        "        \"courses\": \"c c b d e f\",\n",
        "        \"website\": \"https://moodle22.braude.ac.il/\",\n",
        "        \"fav show\": \"\"\n",
        "    }\n",
        "]\n",
        "\"\"\"\n",
        "json_obj = json.loads(strToWriteInJson)\n",
        "\n",
        "FBconn = firebase.FirebaseApplication('https://ex5cloud-default-rtdb.firebaseio.com/',None)\n",
        "res=FBconn.get('/Students/',None)\n",
        "\n",
        "currentStudentsInDB = []\n",
        "if res:\n",
        "  for key in res:\n",
        "      currentStudentsInDB.append(res[key])\n",
        "\n",
        "def isIDExist(idToFind, studentsArray):\n",
        "  for student in studentsArray:\n",
        "    if student[\"id\"] == idToFind:\n",
        "      return True\n",
        "  return False\n",
        "\n",
        "for elem in json_obj:\n",
        "    id_to_check = elem['id']\n",
        "    students=FBconn.get('/Students/',None)\n",
        "    if isIDExist(id_to_check, currentStudentsInDB):\n",
        "        print(f\"Item with ID '{id_to_check}' already exists in the database. Skipping...\")\n",
        "    else:\n",
        "        result = FBconn.post('/Students/', elem)\n",
        "        print(f\"New item added to the database with ID '{result['name']}'\")\n",
        "\n",
        "res=FBconn.get('/Students/',None)\n",
        "for key in res:\n",
        "    print(key+\":\\t\", res[key])\n",
        "\n"
      ],
      "metadata": {
        "colab": {
          "base_uri": "https://localhost:8080/"
        },
        "id": "bltySy91Anjb",
        "outputId": "0a8c2ac9-d60e-4380-e250-9e1020121284"
      },
      "execution_count": 90,
      "outputs": [
        {
          "output_type": "stream",
          "name": "stdout",
          "text": [
            "Item with ID '205818958' already exists in the database. Skipping...\n",
            "Item with ID '208111146' already exists in the database. Skipping...\n",
            "Item with ID '208638015 ' already exists in the database. Skipping...\n",
            "Item with ID '207470329' already exists in the database. Skipping...\n",
            "Item with ID '206850612' already exists in the database. Skipping...\n",
            "Item with ID '205471204' already exists in the database. Skipping...\n",
            "-NTnLpqW_TP0m9eqZyX_:\t {'courses': 'a b c d e f', 'email': 'lidor.ankava@e.braude.ac.il', 'fav show': 'Bilbi', 'id': '205818958', 'name': 'Lidor Ankava', 'website': 'https://www.maccabi-haifa.com/'}\n",
            "-NTnLpsolv3dLjp53lBU:\t {'courses': 'a b c d e f', 'email': 'michal.ginat@e.braude.ac.il', 'fav show': 'All shows', 'id': '208111146', 'name': 'Michal Ginat', 'website': 'https://www.netflix.com/browse'}\n",
            "-NTnLpv3cHSW7CuvN0xx:\t {'courses': 'b d e f', 'email': 'gal.polak@e.braude.ac.il', 'fav show': 'Dora and Boots', 'id': '208638015 ', 'name': 'Gal Polak', 'website': 'https://mail.google.com/mail/'}\n",
            "-NTnLpxHoM6gf13vKkRb:\t {'courses': 'a b c d e', 'email': 'sharom.mor@e.braude.ac.il', 'fav show': 'Sport 55', 'id': '207470329', 'name': 'Sharon Mor', 'website': 'https://presents.htzone.co.il/'}\n",
            "-NTnLpzXhohkmvjBIMyy:\t {'courses': 'b d e f', 'email': 'yuval.badihi@e.braude.ac.il', 'fav show': 'Formula 1', 'id': '206850612', 'name': 'Yuval Badihi', 'website': 'https://moodle22.braude.ac.il/'}\n",
            "-NTnLq0yCASKKQjptowH:\t {'courses': 'c c b d e f', 'email': 'Tali.munchink@e.braude.ac.il', 'fav show': '', 'id': '205471204', 'name': 'Tali Munchink', 'website': 'https://moodle22.braude.ac.il/'}\n"
          ]
        }
      ]
    }
  ]
}